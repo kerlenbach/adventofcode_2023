{
 "cells": [
  {
   "cell_type": "code",
   "execution_count": 17,
   "metadata": {},
   "outputs": [
    {
     "ename": "ImportError",
     "evalue": "cannot import name 'map_agg' from 'pyspark.sql.functions' (c:\\Users\\kerle\\miniconda3\\envs\\pyspark\\lib\\site-packages\\pyspark\\sql\\functions.py)",
     "output_type": "error",
     "traceback": [
      "\u001b[1;31m---------------------------------------------------------------------------\u001b[0m",
      "\u001b[1;31mImportError\u001b[0m                               Traceback (most recent call last)",
      "Cell \u001b[1;32mIn[17], line 2\u001b[0m\n\u001b[0;32m      1\u001b[0m \u001b[38;5;28;01mfrom\u001b[39;00m \u001b[38;5;21;01mpyspark\u001b[39;00m\u001b[38;5;21;01m.\u001b[39;00m\u001b[38;5;21;01msql\u001b[39;00m\u001b[38;5;21;01m.\u001b[39;00m\u001b[38;5;21;01mfunctions\u001b[39;00m \u001b[38;5;28;01mimport\u001b[39;00m \u001b[38;5;28msum\u001b[39m, when, col, lit, \u001b[38;5;28mmin\u001b[39m, \u001b[38;5;28mmax\u001b[39m, count, countDistinct, isnan, greatest\n\u001b[1;32m----> 2\u001b[0m \u001b[38;5;28;01mfrom\u001b[39;00m \u001b[38;5;21;01mpyspark\u001b[39;00m\u001b[38;5;21;01m.\u001b[39;00m\u001b[38;5;21;01msql\u001b[39;00m\u001b[38;5;21;01m.\u001b[39;00m\u001b[38;5;21;01mfunctions\u001b[39;00m \u001b[38;5;28;01mimport\u001b[39;00m row_number, regexp_replace, regexp_extract, substring, concat, replace, split, explode, map_from_arrays, regexp_extract_all, coalesce, position, posexplode, expr, map_agg\n\u001b[0;32m      3\u001b[0m \u001b[38;5;28;01mfrom\u001b[39;00m \u001b[38;5;21;01mpyspark\u001b[39;00m\u001b[38;5;21;01m.\u001b[39;00m\u001b[38;5;21;01msql\u001b[39;00m\u001b[38;5;21;01m.\u001b[39;00m\u001b[38;5;21;01mfunctions\u001b[39;00m \u001b[38;5;28;01mimport\u001b[39;00m dateadd, format_number\n\u001b[0;32m      4\u001b[0m \u001b[38;5;28;01mfrom\u001b[39;00m \u001b[38;5;21;01mpyspark\u001b[39;00m\u001b[38;5;21;01m.\u001b[39;00m\u001b[38;5;21;01msql\u001b[39;00m\u001b[38;5;21;01m.\u001b[39;00m\u001b[38;5;21;01mtypes\u001b[39;00m \u001b[38;5;28;01mimport\u001b[39;00m \u001b[38;5;241m*\u001b[39m\n",
      "\u001b[1;31mImportError\u001b[0m: cannot import name 'map_agg' from 'pyspark.sql.functions' (c:\\Users\\kerle\\miniconda3\\envs\\pyspark\\lib\\site-packages\\pyspark\\sql\\functions.py)"
     ]
    }
   ],
   "source": [
    "\n",
    "from pyspark.sql.functions import sum, when, col, lit, min, max, count, countDistinct, isnan, greatest\n",
    "from pyspark.sql.functions import row_number, regexp_replace, regexp_extract, substring, concat, replace, split, explode, map_from_arrays, regexp_extract_all, coalesce, position, posexplode, expr\n",
    "from pyspark.sql.functions import dateadd, format_number\n",
    "from pyspark.sql.types import *\n",
    "from pyspark.sql.window import Window\n",
    "from pyspark.sql import SparkSession\n",
    "import pandas as pd\n",
    "from functools import reduce\n",
    "from pyspark.sql import functions as F"
   ]
  },
  {
   "cell_type": "code",
   "execution_count": 3,
   "metadata": {},
   "outputs": [],
   "source": [
    "spark = SparkSession \\\n",
    "    .builder \\\n",
    "    .appName(\"App Ad\").getOrCreate()\n",
    "#    .config(\"spark.some.config.option\", \"some-value\") \\\n",
    "\n",
    "spark.conf.set(\"spark.sql.repl.eagerEval.enabled\", True)"
   ]
  },
  {
   "cell_type": "code",
   "execution_count": 4,
   "metadata": {},
   "outputs": [],
   "source": [
    "file = \"data/3.csv\"\n",
    "\n",
    "df = spark.read.format(\"csv\") \\\n",
    "       .option(\"sep\", \";\")\\\n",
    "       .option(\"header\", \"false\") \\\n",
    "       .option(\"inferSchema\", \"true\") \\\n",
    "       .load(file) \n",
    "\n",
    "column_names = []\n",
    "for i in range(len(df.columns)):\n",
    "    column_names.append(\"set\" + str(i))\n",
    "df = df.toDF(*column_names)"
   ]
  },
  {
   "cell_type": "code",
   "execution_count": 5,
   "metadata": {},
   "outputs": [
    {
     "name": "stdout",
     "output_type": "stream",
     "text": [
      "140\n",
      "1\n"
     ]
    }
   ],
   "source": [
    "print(df.count())\n",
    "print(len(df.columns))\n"
   ]
  },
  {
   "cell_type": "code",
   "execution_count": 6,
   "metadata": {},
   "outputs": [
    {
     "name": "stdout",
     "output_type": "stream",
     "text": [
      "+--------------------------------------------------------------------------------------------------------------------------------------------+\n",
      "|set0                                                                                                                                        |\n",
      "+--------------------------------------------------------------------------------------------------------------------------------------------+\n",
      "|...317..........214.....................................751.................................630...479..205....41.993............416.........|\n",
      "|...*....813........%....572........%...629.154......518....*....365..................-.......*.......#.....................422...........661|\n",
      "|269.......*...58...........=......264.....*..........*......937.-...........235...303.........848..............195.....154*.........144.-...|\n",
      "|........476..@...162.855................$....288...821..............107.....-...........290......../..301.........=...........135..*........|\n",
      "|618.............=....*...547...........441....*........................@................*........851....+...................+..*...102.310..|\n",
      "|...*961....905......534..$...377...............854...341.342....485.......109....89.995..927..............................90..997......*....|\n",
      "|............*...................*.................../.....*......@...........%....*...*.......................+44.....913.........9.....891.|\n",
      "|....62......724...592....946.878...854....$.701............480......575.246....119.....54..296.906..684..................*.........*838.....|\n",
      "|.................+......*...............478....................469.....*..................*...........+..502..156.........821...........983.|\n",
      "|....................315.764..996..571...............=........................804.......&...892....958.....*......*.............61...........|\n",
      "|........+...697*.....+.........*...*...........@.448........................*.......322.............*....309..37.602.....775....*...........|\n",
      "|32.480..665.....557......+...435..449..691..327....................#....921..535..........755...43...597........................322..7......|\n",
      "|......*.....848.........745.............*.......679/............106.......&........404......+....*...................888..750........*......|\n",
      "|......93...*....=.............*297......550...........324.597............................................819.....997*......-...734$..588....|\n",
      "|.........363..112..754...............&..........723....................14..954.............175....773...*.............&.....................|\n",
      "|..................*.......#..........502......../...............606.........@..778*.......#.........*....844...713...743....-.........&.....|\n",
      "|............827.895.-539...469...938...../.248.....................*.49............749.............783.........$...+.........33....471......|\n",
      "|..............*.................../...517...&......368*710......432...*............................................841.=.................194|\n",
      "|.....*491....395.......&481.................../.#...................83................668..181.....698..155*...........981.200..............|\n",
      "|...................219.................196.473..224.....=.....733*.......=.........98*.......*.420..........671.....*......*......369.205...|\n",
      "+--------------------------------------------------------------------------------------------------------------------------------------------+\n",
      "only showing top 20 rows\n",
      "\n"
     ]
    }
   ],
   "source": [
    "df.show(truncate=False)"
   ]
  },
  {
   "cell_type": "code",
   "execution_count": 48,
   "metadata": {},
   "outputs": [
    {
     "ename": "AnalysisException",
     "evalue": "[UNSUPPORTED_GENERATOR.MULTI_GENERATOR] The generator is not supported: only one generator allowed per SELECT clause but found 2: \"posexplode(all_numbers)\", \"posexplode(all_symbols)\".",
     "output_type": "error",
     "traceback": [
      "\u001b[1;31m---------------------------------------------------------------------------\u001b[0m",
      "\u001b[1;31mAnalysisException\u001b[0m                         Traceback (most recent call last)",
      "Cell \u001b[1;32mIn[48], line 8\u001b[0m\n\u001b[0;32m      5\u001b[0m df \u001b[38;5;241m=\u001b[39m df\u001b[38;5;241m.\u001b[39mwithColumn(\u001b[38;5;124m\"\u001b[39m\u001b[38;5;124mall_symbols\u001b[39m\u001b[38;5;124m\"\u001b[39m, split(col(\u001b[38;5;124m\"\u001b[39m\u001b[38;5;124mset0\u001b[39m\u001b[38;5;124m\"\u001b[39m), \u001b[38;5;124m\"\u001b[39m\u001b[38;5;124m[.\u001b[39m\u001b[38;5;124m\\\u001b[39m\u001b[38;5;124md+]+\u001b[39m\u001b[38;5;124m\"\u001b[39m))\n\u001b[0;32m      7\u001b[0m \u001b[38;5;66;03m# Explode the array of matches with their positions\u001b[39;00m\n\u001b[1;32m----> 8\u001b[0m exploded_df \u001b[38;5;241m=\u001b[39m \u001b[43mdf\u001b[49m\u001b[38;5;241;43m.\u001b[39;49m\u001b[43mselect\u001b[49m\u001b[43m(\u001b[49m\u001b[38;5;124;43m\"\u001b[39;49m\u001b[38;5;124;43mset0\u001b[39;49m\u001b[38;5;124;43m\"\u001b[39;49m\u001b[43m,\u001b[49m\u001b[43m \u001b[49m\u001b[43mposexplode\u001b[49m\u001b[43m(\u001b[49m\u001b[43mcol\u001b[49m\u001b[43m(\u001b[49m\u001b[38;5;124;43m\"\u001b[39;49m\u001b[38;5;124;43mall_numbers\u001b[39;49m\u001b[38;5;124;43m\"\u001b[39;49m\u001b[43m)\u001b[49m\u001b[43m)\u001b[49m\u001b[38;5;241;43m.\u001b[39;49m\u001b[43malias\u001b[49m\u001b[43m(\u001b[49m\u001b[38;5;124;43m\"\u001b[39;49m\u001b[38;5;124;43mnum_pos\u001b[39;49m\u001b[38;5;124;43m\"\u001b[39;49m\u001b[43m,\u001b[49m\u001b[43m \u001b[49m\u001b[38;5;124;43m\"\u001b[39;49m\u001b[38;5;124;43mnum_match\u001b[39;49m\u001b[38;5;124;43m\"\u001b[39;49m\u001b[43m)\u001b[49m\u001b[43m,\u001b[49m\u001b[43m \u001b[49m\u001b[43mposexplode\u001b[49m\u001b[43m(\u001b[49m\u001b[43mcol\u001b[49m\u001b[43m(\u001b[49m\u001b[38;5;124;43m\"\u001b[39;49m\u001b[38;5;124;43mall_symbols\u001b[39;49m\u001b[38;5;124;43m\"\u001b[39;49m\u001b[43m)\u001b[49m\u001b[43m)\u001b[49m\u001b[38;5;241;43m.\u001b[39;49m\u001b[43malias\u001b[49m\u001b[43m(\u001b[49m\u001b[38;5;124;43m\"\u001b[39;49m\u001b[38;5;124;43msym_pos\u001b[39;49m\u001b[38;5;124;43m\"\u001b[39;49m\u001b[43m,\u001b[49m\u001b[43m \u001b[49m\u001b[38;5;124;43m\"\u001b[39;49m\u001b[38;5;124;43msym_match\u001b[39;49m\u001b[38;5;124;43m\"\u001b[39;49m\u001b[43m)\u001b[49m\u001b[43m)\u001b[49m\n\u001b[0;32m     10\u001b[0m \u001b[38;5;66;03m# Filter out empty matches (from consecutive non-digit characters)\u001b[39;00m\n\u001b[0;32m     11\u001b[0m filtered_df \u001b[38;5;241m=\u001b[39m exploded_df\u001b[38;5;241m.\u001b[39mfilter((col(\u001b[38;5;124m\"\u001b[39m\u001b[38;5;124mnum_match\u001b[39m\u001b[38;5;124m\"\u001b[39m) \u001b[38;5;241m!=\u001b[39m \u001b[38;5;124m\"\u001b[39m\u001b[38;5;124m\"\u001b[39m) \u001b[38;5;241m|\u001b[39m (col(\u001b[38;5;124m'\u001b[39m\u001b[38;5;124msym_match_\u001b[39m\u001b[38;5;124m'\u001b[39m) \u001b[38;5;241m!=\u001b[39m \u001b[38;5;124m\"\u001b[39m\u001b[38;5;124m\"\u001b[39m))\n",
      "File \u001b[1;32mc:\\Users\\kerle\\miniconda3\\envs\\pyspark\\lib\\site-packages\\pyspark\\sql\\dataframe.py:3227\u001b[0m, in \u001b[0;36mDataFrame.select\u001b[1;34m(self, *cols)\u001b[0m\n\u001b[0;32m   3182\u001b[0m \u001b[38;5;28;01mdef\u001b[39;00m \u001b[38;5;21mselect\u001b[39m(\u001b[38;5;28mself\u001b[39m, \u001b[38;5;241m*\u001b[39mcols: \u001b[38;5;124m\"\u001b[39m\u001b[38;5;124mColumnOrName\u001b[39m\u001b[38;5;124m\"\u001b[39m) \u001b[38;5;241m-\u001b[39m\u001b[38;5;241m>\u001b[39m \u001b[38;5;124m\"\u001b[39m\u001b[38;5;124mDataFrame\u001b[39m\u001b[38;5;124m\"\u001b[39m:  \u001b[38;5;66;03m# type: ignore[misc]\u001b[39;00m\n\u001b[0;32m   3183\u001b[0m \u001b[38;5;250m    \u001b[39m\u001b[38;5;124;03m\"\"\"Projects a set of expressions and returns a new :class:`DataFrame`.\u001b[39;00m\n\u001b[0;32m   3184\u001b[0m \n\u001b[0;32m   3185\u001b[0m \u001b[38;5;124;03m    .. versionadded:: 1.3.0\u001b[39;00m\n\u001b[1;32m   (...)\u001b[0m\n\u001b[0;32m   3225\u001b[0m \u001b[38;5;124;03m    +-----+---+\u001b[39;00m\n\u001b[0;32m   3226\u001b[0m \u001b[38;5;124;03m    \"\"\"\u001b[39;00m\n\u001b[1;32m-> 3227\u001b[0m     jdf \u001b[38;5;241m=\u001b[39m \u001b[38;5;28;43mself\u001b[39;49m\u001b[38;5;241;43m.\u001b[39;49m\u001b[43m_jdf\u001b[49m\u001b[38;5;241;43m.\u001b[39;49m\u001b[43mselect\u001b[49m\u001b[43m(\u001b[49m\u001b[38;5;28;43mself\u001b[39;49m\u001b[38;5;241;43m.\u001b[39;49m\u001b[43m_jcols\u001b[49m\u001b[43m(\u001b[49m\u001b[38;5;241;43m*\u001b[39;49m\u001b[43mcols\u001b[49m\u001b[43m)\u001b[49m\u001b[43m)\u001b[49m\n\u001b[0;32m   3228\u001b[0m     \u001b[38;5;28;01mreturn\u001b[39;00m DataFrame(jdf, \u001b[38;5;28mself\u001b[39m\u001b[38;5;241m.\u001b[39msparkSession)\n",
      "File \u001b[1;32mc:\\Users\\kerle\\miniconda3\\envs\\pyspark\\lib\\site-packages\\py4j\\java_gateway.py:1322\u001b[0m, in \u001b[0;36mJavaMember.__call__\u001b[1;34m(self, *args)\u001b[0m\n\u001b[0;32m   1316\u001b[0m command \u001b[38;5;241m=\u001b[39m proto\u001b[38;5;241m.\u001b[39mCALL_COMMAND_NAME \u001b[38;5;241m+\u001b[39m\\\n\u001b[0;32m   1317\u001b[0m     \u001b[38;5;28mself\u001b[39m\u001b[38;5;241m.\u001b[39mcommand_header \u001b[38;5;241m+\u001b[39m\\\n\u001b[0;32m   1318\u001b[0m     args_command \u001b[38;5;241m+\u001b[39m\\\n\u001b[0;32m   1319\u001b[0m     proto\u001b[38;5;241m.\u001b[39mEND_COMMAND_PART\n\u001b[0;32m   1321\u001b[0m answer \u001b[38;5;241m=\u001b[39m \u001b[38;5;28mself\u001b[39m\u001b[38;5;241m.\u001b[39mgateway_client\u001b[38;5;241m.\u001b[39msend_command(command)\n\u001b[1;32m-> 1322\u001b[0m return_value \u001b[38;5;241m=\u001b[39m \u001b[43mget_return_value\u001b[49m\u001b[43m(\u001b[49m\n\u001b[0;32m   1323\u001b[0m \u001b[43m    \u001b[49m\u001b[43manswer\u001b[49m\u001b[43m,\u001b[49m\u001b[43m \u001b[49m\u001b[38;5;28;43mself\u001b[39;49m\u001b[38;5;241;43m.\u001b[39;49m\u001b[43mgateway_client\u001b[49m\u001b[43m,\u001b[49m\u001b[43m \u001b[49m\u001b[38;5;28;43mself\u001b[39;49m\u001b[38;5;241;43m.\u001b[39;49m\u001b[43mtarget_id\u001b[49m\u001b[43m,\u001b[49m\u001b[43m \u001b[49m\u001b[38;5;28;43mself\u001b[39;49m\u001b[38;5;241;43m.\u001b[39;49m\u001b[43mname\u001b[49m\u001b[43m)\u001b[49m\n\u001b[0;32m   1325\u001b[0m \u001b[38;5;28;01mfor\u001b[39;00m temp_arg \u001b[38;5;129;01min\u001b[39;00m temp_args:\n\u001b[0;32m   1326\u001b[0m     \u001b[38;5;28;01mif\u001b[39;00m \u001b[38;5;28mhasattr\u001b[39m(temp_arg, \u001b[38;5;124m\"\u001b[39m\u001b[38;5;124m_detach\u001b[39m\u001b[38;5;124m\"\u001b[39m):\n",
      "File \u001b[1;32mc:\\Users\\kerle\\miniconda3\\envs\\pyspark\\lib\\site-packages\\pyspark\\errors\\exceptions\\captured.py:185\u001b[0m, in \u001b[0;36mcapture_sql_exception.<locals>.deco\u001b[1;34m(*a, **kw)\u001b[0m\n\u001b[0;32m    181\u001b[0m converted \u001b[38;5;241m=\u001b[39m convert_exception(e\u001b[38;5;241m.\u001b[39mjava_exception)\n\u001b[0;32m    182\u001b[0m \u001b[38;5;28;01mif\u001b[39;00m \u001b[38;5;129;01mnot\u001b[39;00m \u001b[38;5;28misinstance\u001b[39m(converted, UnknownException):\n\u001b[0;32m    183\u001b[0m     \u001b[38;5;66;03m# Hide where the exception came from that shows a non-Pythonic\u001b[39;00m\n\u001b[0;32m    184\u001b[0m     \u001b[38;5;66;03m# JVM exception message.\u001b[39;00m\n\u001b[1;32m--> 185\u001b[0m     \u001b[38;5;28;01mraise\u001b[39;00m converted \u001b[38;5;28;01mfrom\u001b[39;00m \u001b[38;5;28;01mNone\u001b[39;00m\n\u001b[0;32m    186\u001b[0m \u001b[38;5;28;01melse\u001b[39;00m:\n\u001b[0;32m    187\u001b[0m     \u001b[38;5;28;01mraise\u001b[39;00m\n",
      "\u001b[1;31mAnalysisException\u001b[0m: [UNSUPPORTED_GENERATOR.MULTI_GENERATOR] The generator is not supported: only one generator allowed per SELECT clause but found 2: \"posexplode(all_numbers)\", \"posexplode(all_symbols)\"."
     ]
    }
   ],
   "source": [
    "from pyspark.sql import SparkSession\n",
    "from pyspark.sql.functions import col, split, posexplode, expr, collect_list, struct\n",
    "\n",
    "df = df.withColumn(\"all_numbers\", split(col(\"set0\"), \"\\\\D+\"))\n",
    "df = df.withColumn(\"all_symbols\", split(col(\"set0\"), \"[.\\d+]+\"))\n",
    "\n",
    "# Explode the array of matches with their positions\n",
    "exploded_df = df.select(\"set0\", posexplode(col(\"all_numbers\")).alias(\"num_pos\", \"num_match\"), posexplode(col(\"all_symbols\")).alias(\"sym_pos\", \"sym_match\"))\n",
    "# exploded_df = exploded_df.withColumns('(\"set0\", posexplode(col(\"all_numbers\")).alias(\"num_pos\", \"num_match\"), posexplode(col(\"all_symbols\")).alias(\"sym_pos\", \"sym_match\"))\n",
    "\n",
    "# Filter out empty matches (from consecutive non-digit characters)\n",
    "filtered_df = exploded_df.filter((col(\"num_match\") != \"\") | (col('sym_match_') != \"\"))\n",
    "\n",
    "# Calculate the actual position of each match in the original string\n",
    "result_df = filtered_df.withColumn(\"actual_num_pos\", expr(\"instr(set0, num_match)\"))\\\n",
    "                        .withColumn('actual_sym_pos', expr('instr(set0, sym_match)'))\n",
    "\n",
    "# Group by original text and collect matches and positions into a list of structs\n",
    "final_df = result_df.groupBy(\"set0\").agg(collect_list(struct(\"num_match\", \"actual_num_pos\")).alias(\"match_num_positions\"),\n",
    "                                         collect_list(struct(\"sym_match\", \"actual_sym_pos\")).alias(\"match_sym_positions\"))\n",
    "\n",
    "\n"
   ]
  },
  {
   "cell_type": "code",
   "execution_count": 44,
   "metadata": {},
   "outputs": [
    {
     "name": "stdout",
     "output_type": "stream",
     "text": [
      "+--------------------------------------------------------------------------------------------------------------------------------------------+----------------------------------------------------------------------------------+----------------------------------------------------------------------------------+-------------------------------+\n",
      "|set0                                                                                                                                        |all_matches                                                                       |all_numbers                                                                       |all_symbols                    |\n",
      "+--------------------------------------------------------------------------------------------------------------------------------------------+----------------------------------------------------------------------------------+----------------------------------------------------------------------------------+-------------------------------+\n",
      "|...317..........214.....................................751.................................630...479..205....41.993............416.........|[, 317, 214, 751, 630, 479, 205, 41, 993, 416, ]                                  |[, 317, 214, 751, 630, 479, 205, 41, 993, 416, ]                                  |[, ]                           |\n",
      "|...*....813........%....572........%...629.154......518....*....365..................-.......*.......#.....................422...........661|[, 813, 572, 629, 154, 518, 365, 422, 661]                                        |[, 813, 572, 629, 154, 518, 365, 422, 661]                                        |[, *, %, %, *, -, *, #, ]      |\n",
      "|269.......*...58...........=......264.....*..........*......937.-...........235...303.........848..............195.....154*.........144.-...|[269, 58, 264, 937, 235, 303, 848, 195, 154, 144, ]                               |[269, 58, 264, 937, 235, 303, 848, 195, 154, 144, ]                               |[, *, =, *, *, -, *, -, ]      |\n",
      "|........476..@...162.855................$....288...821..............107.....-...........290......../..301.........=...........135..*........|[, 476, 162, 855, 288, 821, 107, 290, 301, 135, ]                                 |[, 476, 162, 855, 288, 821, 107, 290, 301, 135, ]                                 |[, @, $, -, /, =, *, ]         |\n",
      "|618.............=....*...547...........441....*........................@................*........851....+...................+..*...102.310..|[618, 547, 441, 851, 102, 310, ]                                                  |[618, 547, 441, 851, 102, 310, ]                                                  |[, =, *, *, @, *, *, ]         |\n",
      "|...*961....905......534..$...377...............854...341.342....485.......109....89.995..927..............................90..997......*....|[, 961, 905, 534, 377, 854, 341, 342, 485, 109, 89, 995, 927, 90, 997, ]          |[, 961, 905, 534, 377, 854, 341, 342, 485, 109, 89, 995, 927, 90, 997, ]          |[, *, $, *, ]                  |\n",
      "|............*...................*.................../.....*......@...........%....*...*.......................+44.....913.........9.....891.|[, 44, 913, 9, 891, ]                                                             |[, 44, 913, 9, 891, ]                                                             |[, *, *, /, *, @, %, *, *, ]   |\n",
      "|....62......724...592....946.878...854....$.701............480......575.246....119.....54..296.906..684..................*.........*838.....|[, 62, 724, 592, 946, 878, 854, 701, 480, 575, 246, 119, 54, 296, 906, 684, 838, ]|[, 62, 724, 592, 946, 878, 854, 701, 480, 575, 246, 119, 54, 296, 906, 684, 838, ]|[, $, *, *, ]                  |\n",
      "|.................+......*...............478....................469.....*..................*...........+..502..156.........821...........983.|[, 478, 469, 502, 156, 821, 983, ]                                                |[, 478, 469, 502, 156, 821, 983, ]                                                |[, *, *, *, ]                  |\n",
      "|....................315.764..996..571...............=........................804.......&...892....958.....*......*.............61...........|[, 315, 764, 996, 571, 804, 892, 958, 61, ]                                       |[, 315, 764, 996, 571, 804, 892, 958, 61, ]                                       |[, =, &, *, *, ]               |\n",
      "|........+...697*.....+.........*...*...........@.448........................*.......322.............*....309..37.602.....775....*...........|[, 697, 448, 322, 309, 37, 602, 775, ]                                            |[, 697, 448, 322, 309, 37, 602, 775, ]                                            |[, *, *, *, @, *, *, *, ]      |\n",
      "|32.480..665.....557......+...435..449..691..327....................#....921..535..........755...43...597........................322..7......|[32, 480, 665, 557, 435, 449, 691, 327, 921, 535, 755, 43, 597, 322, 7, ]         |[32, 480, 665, 557, 435, 449, 691, 327, 921, 535, 755, 43, 597, 322, 7, ]         |[, #, ]                        |\n",
      "|......*.....848.........745.............*.......679/............106.......&........404......+....*...................888..750........*......|[, 848, 745, 679, 106, 404, 888, 750, ]                                           |[, 848, 745, 679, 106, 404, 888, 750, ]                                           |[, *, *, /, &, *, *, ]         |\n",
      "|......93...*....=.............*297......550...........324.597............................................819.....997*......-...734$..588....|[, 93, 297, 550, 324, 597, 819, 997, 734, 588, ]                                  |[, 93, 297, 550, 324, 597, 819, 997, 734, 588, ]                                  |[, *, =, *, *, -, $, ]         |\n",
      "|.........363..112..754...............&..........723....................14..954.............175....773...*.............&.....................|[, 363, 112, 754, 723, 14, 954, 175, 773, ]                                       |[, 363, 112, 754, 723, 14, 954, 175, 773, ]                                       |[, &, *, &, ]                  |\n",
      "|..................*.......#..........502......../...............606.........@..778*.......#.........*....844...713...743....-.........&.....|[, 502, 606, 778, 844, 713, 743, ]                                                |[, 502, 606, 778, 844, 713, 743, ]                                                |[, *, #, /, @, *, #, *, -, &, ]|\n",
      "|............827.895.-539...469...938...../.248.....................*.49............749.............783.........$...+.........33....471......|[, 827, 895, 539, 469, 938, 248, 49, 749, 783, 33, 471, ]                         |[, 827, 895, 539, 469, 938, 248, 49, 749, 783, 33, 471, ]                         |[, -, /, *, $, ]               |\n",
      "|..............*.................../...517...&......368*710......432...*............................................841.=.................194|[, 517, 368, 710, 432, 841, 194]                                                  |[, 517, 368, 710, 432, 841, 194]                                                  |[, *, /, &, *, *, =, ]         |\n",
      "|.....*491....395.......&481.................../.#...................83................668..181.....698..155*...........981.200..............|[, 491, 395, 481, 83, 668, 181, 698, 155, 981, 200, ]                             |[, 491, 395, 481, 83, 668, 181, 698, 155, 981, 200, ]                             |[, *, &, /, #, *, ]            |\n",
      "|...................219.................196.473..224.....=.....733*.......=.........98*.......*.420..........671.....*......*......369.205...|[, 219, 196, 473, 224, 733, 98, 420, 671, 369, 205, ]                             |[, 219, 196, 473, 224, 733, 98, 420, 671, 369, 205, ]                             |[, =, *, =, *, *, *, *, ]      |\n",
      "+--------------------------------------------------------------------------------------------------------------------------------------------+----------------------------------------------------------------------------------+----------------------------------------------------------------------------------+-------------------------------+\n",
      "only showing top 20 rows\n",
      "\n"
     ]
    }
   ],
   "source": [
    "df.show(truncate=False)\n",
    "# final_df.show(truncate=False)"
   ]
  },
  {
   "cell_type": "code",
   "execution_count": 10,
   "metadata": {},
   "outputs": [
    {
     "ename": "AnalysisException",
     "evalue": "[UNRESOLVED_COLUMN.WITH_SUGGESTION] A column or function parameter with name `3` cannot be resolved. Did you mean one of the following? [`set0`].;\n'Project [set0#19, regexp_extract_all('3, set0#19, 0) AS first_digit#48]\n+- Project [_c0#17 AS set0#19]\n   +- Relation [_c0#17] csv\n",
     "output_type": "error",
     "traceback": [
      "\u001b[1;31m---------------------------------------------------------------------------\u001b[0m",
      "\u001b[1;31mAnalysisException\u001b[0m                         Traceback (most recent call last)",
      "Cell \u001b[1;32mIn[10], line 2\u001b[0m\n\u001b[0;32m      1\u001b[0m \u001b[38;5;66;03m# Extract the first digit\u001b[39;00m\n\u001b[1;32m----> 2\u001b[0m df \u001b[38;5;241m=\u001b[39m \u001b[43mdf\u001b[49m\u001b[38;5;241;43m.\u001b[39;49m\u001b[43mwithColumn\u001b[49m\u001b[43m(\u001b[49m\u001b[38;5;124;43m\"\u001b[39;49m\u001b[38;5;124;43mfirst_digit\u001b[39;49m\u001b[38;5;124;43m\"\u001b[39;49m\u001b[43m,\u001b[49m\u001b[43m \u001b[49m\u001b[43mregexp_extract_all\u001b[49m\u001b[43m(\u001b[49m\u001b[38;5;124;43m\"\u001b[39;49m\u001b[38;5;124;43m3\u001b[39;49m\u001b[38;5;124;43m\"\u001b[39;49m\u001b[43m,\u001b[49m\u001b[43m \u001b[49m\u001b[43mcol\u001b[49m\u001b[43m(\u001b[49m\u001b[38;5;124;43m\"\u001b[39;49m\u001b[38;5;124;43mset0\u001b[39;49m\u001b[38;5;124;43m\"\u001b[39;49m\u001b[43m)\u001b[49m\u001b[43m,\u001b[49m\u001b[43m \u001b[49m\u001b[38;5;241;43m0\u001b[39;49m\u001b[43m)\u001b[49m\u001b[43m)\u001b[49m\n\u001b[0;32m      4\u001b[0m \u001b[38;5;66;03m# Find the position of the first digit\u001b[39;00m\n\u001b[0;32m      5\u001b[0m df \u001b[38;5;241m=\u001b[39m df\u001b[38;5;241m.\u001b[39mwithColumn(\u001b[38;5;124m\"\u001b[39m\u001b[38;5;124mdigit_position\u001b[39m\u001b[38;5;124m\"\u001b[39m, position(col(\u001b[38;5;124m\"\u001b[39m\u001b[38;5;124mfirst_digit\u001b[39m\u001b[38;5;124m\"\u001b[39m), col(\u001b[38;5;124m\"\u001b[39m\u001b[38;5;124mset0\u001b[39m\u001b[38;5;124m\"\u001b[39m)))\n",
      "File \u001b[1;32mc:\\Users\\kerle\\miniconda3\\envs\\pyspark\\lib\\site-packages\\pyspark\\sql\\dataframe.py:5174\u001b[0m, in \u001b[0;36mDataFrame.withColumn\u001b[1;34m(self, colName, col)\u001b[0m\n\u001b[0;32m   5169\u001b[0m \u001b[38;5;28;01mif\u001b[39;00m \u001b[38;5;129;01mnot\u001b[39;00m \u001b[38;5;28misinstance\u001b[39m(col, Column):\n\u001b[0;32m   5170\u001b[0m     \u001b[38;5;28;01mraise\u001b[39;00m PySparkTypeError(\n\u001b[0;32m   5171\u001b[0m         error_class\u001b[38;5;241m=\u001b[39m\u001b[38;5;124m\"\u001b[39m\u001b[38;5;124mNOT_COLUMN\u001b[39m\u001b[38;5;124m\"\u001b[39m,\n\u001b[0;32m   5172\u001b[0m         message_parameters\u001b[38;5;241m=\u001b[39m{\u001b[38;5;124m\"\u001b[39m\u001b[38;5;124marg_name\u001b[39m\u001b[38;5;124m\"\u001b[39m: \u001b[38;5;124m\"\u001b[39m\u001b[38;5;124mcol\u001b[39m\u001b[38;5;124m\"\u001b[39m, \u001b[38;5;124m\"\u001b[39m\u001b[38;5;124marg_type\u001b[39m\u001b[38;5;124m\"\u001b[39m: \u001b[38;5;28mtype\u001b[39m(col)\u001b[38;5;241m.\u001b[39m\u001b[38;5;18m__name__\u001b[39m},\n\u001b[0;32m   5173\u001b[0m     )\n\u001b[1;32m-> 5174\u001b[0m \u001b[38;5;28;01mreturn\u001b[39;00m DataFrame(\u001b[38;5;28;43mself\u001b[39;49m\u001b[38;5;241;43m.\u001b[39;49m\u001b[43m_jdf\u001b[49m\u001b[38;5;241;43m.\u001b[39;49m\u001b[43mwithColumn\u001b[49m\u001b[43m(\u001b[49m\u001b[43mcolName\u001b[49m\u001b[43m,\u001b[49m\u001b[43m \u001b[49m\u001b[43mcol\u001b[49m\u001b[38;5;241;43m.\u001b[39;49m\u001b[43m_jc\u001b[49m\u001b[43m)\u001b[49m, \u001b[38;5;28mself\u001b[39m\u001b[38;5;241m.\u001b[39msparkSession)\n",
      "File \u001b[1;32mc:\\Users\\kerle\\miniconda3\\envs\\pyspark\\lib\\site-packages\\py4j\\java_gateway.py:1322\u001b[0m, in \u001b[0;36mJavaMember.__call__\u001b[1;34m(self, *args)\u001b[0m\n\u001b[0;32m   1316\u001b[0m command \u001b[38;5;241m=\u001b[39m proto\u001b[38;5;241m.\u001b[39mCALL_COMMAND_NAME \u001b[38;5;241m+\u001b[39m\\\n\u001b[0;32m   1317\u001b[0m     \u001b[38;5;28mself\u001b[39m\u001b[38;5;241m.\u001b[39mcommand_header \u001b[38;5;241m+\u001b[39m\\\n\u001b[0;32m   1318\u001b[0m     args_command \u001b[38;5;241m+\u001b[39m\\\n\u001b[0;32m   1319\u001b[0m     proto\u001b[38;5;241m.\u001b[39mEND_COMMAND_PART\n\u001b[0;32m   1321\u001b[0m answer \u001b[38;5;241m=\u001b[39m \u001b[38;5;28mself\u001b[39m\u001b[38;5;241m.\u001b[39mgateway_client\u001b[38;5;241m.\u001b[39msend_command(command)\n\u001b[1;32m-> 1322\u001b[0m return_value \u001b[38;5;241m=\u001b[39m \u001b[43mget_return_value\u001b[49m\u001b[43m(\u001b[49m\n\u001b[0;32m   1323\u001b[0m \u001b[43m    \u001b[49m\u001b[43manswer\u001b[49m\u001b[43m,\u001b[49m\u001b[43m \u001b[49m\u001b[38;5;28;43mself\u001b[39;49m\u001b[38;5;241;43m.\u001b[39;49m\u001b[43mgateway_client\u001b[49m\u001b[43m,\u001b[49m\u001b[43m \u001b[49m\u001b[38;5;28;43mself\u001b[39;49m\u001b[38;5;241;43m.\u001b[39;49m\u001b[43mtarget_id\u001b[49m\u001b[43m,\u001b[49m\u001b[43m \u001b[49m\u001b[38;5;28;43mself\u001b[39;49m\u001b[38;5;241;43m.\u001b[39;49m\u001b[43mname\u001b[49m\u001b[43m)\u001b[49m\n\u001b[0;32m   1325\u001b[0m \u001b[38;5;28;01mfor\u001b[39;00m temp_arg \u001b[38;5;129;01min\u001b[39;00m temp_args:\n\u001b[0;32m   1326\u001b[0m     \u001b[38;5;28;01mif\u001b[39;00m \u001b[38;5;28mhasattr\u001b[39m(temp_arg, \u001b[38;5;124m\"\u001b[39m\u001b[38;5;124m_detach\u001b[39m\u001b[38;5;124m\"\u001b[39m):\n",
      "File \u001b[1;32mc:\\Users\\kerle\\miniconda3\\envs\\pyspark\\lib\\site-packages\\pyspark\\errors\\exceptions\\captured.py:185\u001b[0m, in \u001b[0;36mcapture_sql_exception.<locals>.deco\u001b[1;34m(*a, **kw)\u001b[0m\n\u001b[0;32m    181\u001b[0m converted \u001b[38;5;241m=\u001b[39m convert_exception(e\u001b[38;5;241m.\u001b[39mjava_exception)\n\u001b[0;32m    182\u001b[0m \u001b[38;5;28;01mif\u001b[39;00m \u001b[38;5;129;01mnot\u001b[39;00m \u001b[38;5;28misinstance\u001b[39m(converted, UnknownException):\n\u001b[0;32m    183\u001b[0m     \u001b[38;5;66;03m# Hide where the exception came from that shows a non-Pythonic\u001b[39;00m\n\u001b[0;32m    184\u001b[0m     \u001b[38;5;66;03m# JVM exception message.\u001b[39;00m\n\u001b[1;32m--> 185\u001b[0m     \u001b[38;5;28;01mraise\u001b[39;00m converted \u001b[38;5;28;01mfrom\u001b[39;00m \u001b[38;5;28;01mNone\u001b[39;00m\n\u001b[0;32m    186\u001b[0m \u001b[38;5;28;01melse\u001b[39;00m:\n\u001b[0;32m    187\u001b[0m     \u001b[38;5;28;01mraise\u001b[39;00m\n",
      "\u001b[1;31mAnalysisException\u001b[0m: [UNRESOLVED_COLUMN.WITH_SUGGESTION] A column or function parameter with name `3` cannot be resolved. Did you mean one of the following? [`set0`].;\n'Project [set0#19, regexp_extract_all('3, set0#19, 0) AS first_digit#48]\n+- Project [_c0#17 AS set0#19]\n   +- Relation [_c0#17] csv\n"
     ]
    }
   ],
   "source": [
    "# Extract the first digit\n",
    "df = df.withColumn(\"first_digit\", regexp_extract_all(\"3\", col(\"set0\"), 0))\n",
    "\n",
    "# Find the position of the first digit\n",
    "df = df.withColumn(\"digit_position\", position(col(\"first_digit\"), col(\"set0\")))"
   ]
  },
  {
   "cell_type": "code",
   "execution_count": null,
   "metadata": {},
   "outputs": [],
   "source": []
  }
 ],
 "metadata": {
  "kernelspec": {
   "display_name": "pyspark",
   "language": "python",
   "name": "python3"
  },
  "language_info": {
   "codemirror_mode": {
    "name": "ipython",
    "version": 3
   },
   "file_extension": ".py",
   "mimetype": "text/x-python",
   "name": "python",
   "nbconvert_exporter": "python",
   "pygments_lexer": "ipython3",
   "version": "3.10.12"
  }
 },
 "nbformat": 4,
 "nbformat_minor": 2
}
