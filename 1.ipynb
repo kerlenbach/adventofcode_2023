{
 "cells": [
  {
   "cell_type": "code",
   "execution_count": 78,
   "metadata": {},
   "outputs": [],
   "source": [
    "\n",
    "from pyspark.sql.functions import *\n",
    "from pyspark.sql.functions import row_number,lit,when, sum, countDistinct, min, max, dateadd,format_number,count,regexp_replace,isnan, regexp_extract, col,substring, concat, replace\n",
    "from pyspark.sql.types import IntegerType, DoubleType, DateType\n",
    "from pyspark.sql.window import Window\n",
    "\n",
    "import pandas as pd\n",
    "from pyspark.sql import SparkSession"
   ]
  },
  {
   "cell_type": "code",
   "execution_count": 3,
   "metadata": {},
   "outputs": [],
   "source": [
    "spark = SparkSession \\\n",
    "    .builder \\\n",
    "    .appName(\"App Ad\").getOrCreate()\n",
    "#    .config(\"spark.some.config.option\", \"some-value\") \\\n",
    "\n",
    "spark.conf.set(\"spark.sql.repl.eagerEval.enabled\", True)"
   ]
  },
  {
   "cell_type": "code",
   "execution_count": 108,
   "metadata": {},
   "outputs": [],
   "source": [
    "file = \"1.csv\"\n",
    "\n",
    "df = spark.read.format(\"csv\") \\\n",
    "       .option(\"header\", \"false\") \\\n",
    "       .option(\"inferSchema\", \"true\") \\\n",
    "       .load(file) "
   ]
  },
  {
   "cell_type": "code",
   "execution_count": 109,
   "metadata": {},
   "outputs": [
    {
     "name": "stdout",
     "output_type": "stream",
     "text": [
      "1\n",
      "1000\n"
     ]
    }
   ],
   "source": [
    "print(len(df.columns))\n",
    "print(df.count())"
   ]
  },
  {
   "cell_type": "code",
   "execution_count": 110,
   "metadata": {},
   "outputs": [
    {
     "name": "stdout",
     "output_type": "stream",
     "text": [
      "+--------------------+\n",
      "|                 _c0|\n",
      "+--------------------+\n",
      "|             8eight1|\n",
      "|               98126|\n",
      "|fourfourthreehnbh...|\n",
      "|        8fivenvvtrlj|\n",
      "|six3zbhvrfhsevennine|\n",
      "|427nine6chnqrssxfour|\n",
      "|threevvxhvx38rktdqm3|\n",
      "|    eightzgqzr3eight|\n",
      "|xgjjmnlvznf2ninel...|\n",
      "|    ninethree15seven|\n",
      "|37cjnsfbfkqpkxpdvgk8|\n",
      "|          sgeightwo3|\n",
      "|               9sbxg|\n",
      "|1spnthree59ninejj...|\n",
      "|        six9six2gxmn|\n",
      "|twothreefdbl6five...|\n",
      "|   46six47seven27one|\n",
      "|              four15|\n",
      "|7sixvmsrrzqnngone...|\n",
      "| 3fvsghvkqkbfivenine|\n",
      "+--------------------+\n",
      "only showing top 20 rows\n",
      "\n"
     ]
    }
   ],
   "source": [
    "df.show()"
   ]
  },
  {
   "cell_type": "code",
   "execution_count": 111,
   "metadata": {},
   "outputs": [],
   "source": [
    "# for loop\n",
    "# check for letter or word and add to string"
   ]
  },
  {
   "cell_type": "code",
   "execution_count": 112,
   "metadata": {},
   "outputs": [
    {
     "name": "stdout",
     "output_type": "stream",
     "text": [
      "+--------------------+--------------------+\n",
      "|                 _c0|             numbers|\n",
      "+--------------------+--------------------+\n",
      "|             8eight1|            8ei8ght1|\n",
      "|               98126|               98126|\n",
      "|fourfourthreehnbh...|fo4urfo4urth3reeh...|\n",
      "|        8fivenvvtrlj|       8fi5venvvtrlj|\n",
      "|six3zbhvrfhsevennine|s6ix3zbhvrfhse7ve...|\n",
      "|427nine6chnqrssxfour|427ni9ne6chnqrssx...|\n",
      "|threevvxhvx38rktdqm3|th3reevvxhvx38rkt...|\n",
      "|    eightzgqzr3eight|  ei8ghtzgqzr3ei8ght|\n",
      "|xgjjmnlvznf2ninel...|xgjjmnlvznf2ni9ne...|\n",
      "|    ninethree15seven| ni9neth3ree15se7ven|\n",
      "|37cjnsfbfkqpkxpdvgk8|37cjnsfbfkqpkxpdvgk8|\n",
      "|          sgeightwo3|        sgei8ghtw2o3|\n",
      "|               9sbxg|               9sbxg|\n",
      "|1spnthree59ninejj...|1spnth3ree59ni9ne...|\n",
      "|        six9six2gxmn|      s6ix9s6ix2gxmn|\n",
      "|twothreefdbl6five...|tw2oth3reefdbl6fi...|\n",
      "|   46six47seven27one|46s6ix47se7ven27o1ne|\n",
      "|              four15|             fo4ur15|\n",
      "|7sixvmsrrzqnngone...|7s6ixvmsrrzqnngo1...|\n",
      "| 3fvsghvkqkbfivenine|3fvsghvkqkbfi5ven...|\n",
      "+--------------------+--------------------+\n",
      "only showing top 20 rows\n",
      "\n"
     ]
    }
   ],
   "source": [
    "df = df.withColumn(\"numbers\", col(\"_c0\"))\n",
    "df = df.withColumn(\"numbers\", regexp_replace(\"numbers\", \"nine\", \"ni9ne\"))\n",
    "df = df.withColumn(\"numbers\", regexp_replace(\"numbers\", \"eight\", \"ei8ght\"))\n",
    "df = df.withColumn(\"numbers\", regexp_replace(\"numbers\", \"seven\", \"se7ven\"))\n",
    "df = df.withColumn(\"numbers\", regexp_replace(\"numbers\", \"six\", \"s6ix\"))\n",
    "df = df.withColumn(\"numbers\", regexp_replace(\"numbers\", \"five\", \"fi5ve\"))\n",
    "df = df.withColumn(\"numbers\", regexp_replace(\"numbers\", \"four\", \"fo4ur\"))\n",
    "df = df.withColumn(\"numbers\", regexp_replace(\"numbers\", \"three\", \"th3ree\"))\n",
    "df = df.withColumn(\"numbers\", regexp_replace(\"numbers\", \"two\", \"tw2o\"))\n",
    "df = df.withColumn(\"numbers\", regexp_replace(\"numbers\", \"one\", \"o1ne\"))\n",
    "df.show()"
   ]
  },
  {
   "cell_type": "code",
   "execution_count": 113,
   "metadata": {},
   "outputs": [
    {
     "name": "stdout",
     "output_type": "stream",
     "text": [
      "+--------------------+---------+\n",
      "|                 _c0|  numbers|\n",
      "+--------------------+---------+\n",
      "|             8eight1|      881|\n",
      "|               98126|    98126|\n",
      "|fourfourthreehnbh...|    44364|\n",
      "|        8fivenvvtrlj|       85|\n",
      "|six3zbhvrfhsevennine|     6379|\n",
      "|427nine6chnqrssxfour|   427964|\n",
      "|threevvxhvx38rktdqm3|     3383|\n",
      "|    eightzgqzr3eight|      838|\n",
      "|xgjjmnlvznf2ninel...|    29796|\n",
      "|    ninethree15seven|    93157|\n",
      "|37cjnsfbfkqpkxpdvgk8|      378|\n",
      "|          sgeightwo3|      823|\n",
      "|               9sbxg|        9|\n",
      "|1spnthree59ninejj...|    13599|\n",
      "|        six9six2gxmn|     6962|\n",
      "|twothreefdbl6five...|   236534|\n",
      "|   46six47seven27one|466477271|\n",
      "|              four15|      415|\n",
      "|7sixvmsrrzqnngone...|     7613|\n",
      "| 3fvsghvkqkbfivenine|      359|\n",
      "+--------------------+---------+\n",
      "only showing top 20 rows\n",
      "\n"
     ]
    }
   ],
   "source": [
    "df = df.withColumn(\"numbers\", regexp_replace(col(\"numbers\"), \"[^0-9]\", \"\"))\n",
    "df.show()"
   ]
  },
  {
   "cell_type": "code",
   "execution_count": 114,
   "metadata": {},
   "outputs": [
    {
     "name": "stdout",
     "output_type": "stream",
     "text": [
      "+--------------------+---------+-----+----+\n",
      "|                 _c0|  numbers|first|last|\n",
      "+--------------------+---------+-----+----+\n",
      "|             8eight1|      881|    8|   1|\n",
      "|               98126|    98126|    9|   6|\n",
      "|fourfourthreehnbh...|    44364|    4|   4|\n",
      "|        8fivenvvtrlj|       85|    8|   5|\n",
      "|six3zbhvrfhsevennine|     6379|    6|   9|\n",
      "|427nine6chnqrssxfour|   427964|    4|   4|\n",
      "|threevvxhvx38rktdqm3|     3383|    3|   3|\n",
      "|    eightzgqzr3eight|      838|    8|   8|\n",
      "|xgjjmnlvznf2ninel...|    29796|    2|   6|\n",
      "|    ninethree15seven|    93157|    9|   7|\n",
      "|37cjnsfbfkqpkxpdvgk8|      378|    3|   8|\n",
      "|          sgeightwo3|      823|    8|   3|\n",
      "|               9sbxg|        9|    9|   9|\n",
      "|1spnthree59ninejj...|    13599|    1|   9|\n",
      "|        six9six2gxmn|     6962|    6|   2|\n",
      "|twothreefdbl6five...|   236534|    2|   4|\n",
      "|   46six47seven27one|466477271|    4|   1|\n",
      "|              four15|      415|    4|   5|\n",
      "|7sixvmsrrzqnngone...|     7613|    7|   3|\n",
      "| 3fvsghvkqkbfivenine|      359|    3|   9|\n",
      "+--------------------+---------+-----+----+\n",
      "only showing top 20 rows\n",
      "\n"
     ]
    }
   ],
   "source": [
    "df = df.withColumn(\"first\", (substring(col('numbers'),1,1)))\n",
    "df = df.withColumn(\"last\",(substring(col('numbers'),-1,1)))\n",
    "df.show()"
   ]
  },
  {
   "cell_type": "code",
   "execution_count": 115,
   "metadata": {},
   "outputs": [
    {
     "name": "stdout",
     "output_type": "stream",
     "text": [
      "+--------------------+---------+-----+----+----+\n",
      "|                 _c0|  numbers|first|last|calc|\n",
      "+--------------------+---------+-----+----+----+\n",
      "|             8eight1|      881|    8|   1|  81|\n",
      "|               98126|    98126|    9|   6|  96|\n",
      "|fourfourthreehnbh...|    44364|    4|   4|  44|\n",
      "|        8fivenvvtrlj|       85|    8|   5|  85|\n",
      "|six3zbhvrfhsevennine|     6379|    6|   9|  69|\n",
      "|427nine6chnqrssxfour|   427964|    4|   4|  44|\n",
      "|threevvxhvx38rktdqm3|     3383|    3|   3|  33|\n",
      "|    eightzgqzr3eight|      838|    8|   8|  88|\n",
      "|xgjjmnlvznf2ninel...|    29796|    2|   6|  26|\n",
      "|    ninethree15seven|    93157|    9|   7|  97|\n",
      "|37cjnsfbfkqpkxpdvgk8|      378|    3|   8|  38|\n",
      "|          sgeightwo3|      823|    8|   3|  83|\n",
      "|               9sbxg|        9|    9|   9|  99|\n",
      "|1spnthree59ninejj...|    13599|    1|   9|  19|\n",
      "|        six9six2gxmn|     6962|    6|   2|  62|\n",
      "|twothreefdbl6five...|   236534|    2|   4|  24|\n",
      "|   46six47seven27one|466477271|    4|   1|  41|\n",
      "|              four15|      415|    4|   5|  45|\n",
      "|7sixvmsrrzqnngone...|     7613|    7|   3|  73|\n",
      "| 3fvsghvkqkbfivenine|      359|    3|   9|  39|\n",
      "+--------------------+---------+-----+----+----+\n",
      "only showing top 20 rows\n",
      "\n"
     ]
    }
   ],
   "source": [
    "df = df.withColumn('calc',concat(col('first'),col('last')))\n",
    "df.show()"
   ]
  },
  {
   "cell_type": "code",
   "execution_count": 116,
   "metadata": {},
   "outputs": [
    {
     "data": {
      "text/html": [
       "<table border='1'>\n",
       "<tr><th>sum(calc)</th></tr>\n",
       "<tr><td>54418.0</td></tr>\n",
       "</table>\n"
      ],
      "text/plain": [
       "+---------+\n",
       "|sum(calc)|\n",
       "+---------+\n",
       "|  54418.0|\n",
       "+---------+"
      ]
     },
     "execution_count": 116,
     "metadata": {},
     "output_type": "execute_result"
    }
   ],
   "source": [
    "df.select(sum('calc'))"
   ]
  },
  {
   "cell_type": "code",
   "execution_count": null,
   "metadata": {},
   "outputs": [],
   "source": []
  }
 ],
 "metadata": {
  "kernelspec": {
   "display_name": "pyspark",
   "language": "python",
   "name": "python3"
  },
  "language_info": {
   "codemirror_mode": {
    "name": "ipython",
    "version": 3
   },
   "file_extension": ".py",
   "mimetype": "text/x-python",
   "name": "python",
   "nbconvert_exporter": "python",
   "pygments_lexer": "ipython3",
   "version": "3.10.12"
  }
 },
 "nbformat": 4,
 "nbformat_minor": 2
}
