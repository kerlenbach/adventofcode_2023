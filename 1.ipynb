{
 "cells": [
  {
   "cell_type": "code",
   "execution_count": 2,
   "metadata": {},
   "outputs": [],
   "source": [
    "\n",
    "from pyspark.sql.functions import *\n",
    "from pyspark.sql.functions import row_number,lit,when, sum, countDistinct, min, max, dateadd,format_number,count,regexp_replace,isnan, regexp_extract, col,substring, concat, replace\n",
    "from pyspark.sql.types import IntegerType, DoubleType, DateType\n",
    "from pyspark.sql.window import Window\n",
    "\n",
    "import pandas as pd\n",
    "from pyspark.sql import SparkSession"
   ]
  },
  {
   "cell_type": "code",
   "execution_count": 3,
   "metadata": {},
   "outputs": [],
   "source": [
    "spark = SparkSession \\\n",
    "    .builder \\\n",
    "    .appName(\"App Ad\").getOrCreate()\n",
    "#    .config(\"spark.some.config.option\", \"some-value\") \\\n",
    "\n",
    "spark.conf.set(\"spark.sql.repl.eagerEval.enabled\", True)"
   ]
  },
  {
   "cell_type": "code",
   "execution_count": 4,
   "metadata": {},
   "outputs": [],
   "source": [
    "file = \"data/1.csv\"\n",
    "\n",
    "df = spark.read.format(\"csv\") \\\n",
    "       .option(\"header\", \"false\") \\\n",
    "       .option(\"inferSchema\", \"true\") \\\n",
    "       .load(file) "
   ]
  },
  {
   "cell_type": "code",
   "execution_count": 5,
   "metadata": {},
   "outputs": [
    {
     "name": "stdout",
     "output_type": "stream",
     "text": [
      "1\n",
      "1000\n"
     ]
    }
   ],
   "source": [
    "print(len(df.columns))\n",
    "print(df.count())"
   ]
  },
  {
   "cell_type": "code",
   "execution_count": 6,
   "metadata": {},
   "outputs": [
    {
     "name": "stdout",
     "output_type": "stream",
     "text": [
      "+--------------------+\n",
      "|                 _c0|\n",
      "+--------------------+\n",
      "|          xt36five77|\n",
      "|     two8five6zfrtjj|\n",
      "|eightthree8fiveqj...|\n",
      "|       7chmvlhnpfive|\n",
      "|1tcrgthmeight5mss...|\n",
      "|eightoneqxspfzjk4...|\n",
      "|fdbtmkhdfzrck9kxc...|\n",
      "|               9six9|\n",
      "| goneightczdzjk18589|\n",
      "|41two3eightfscdmq...|\n",
      "|               t8929|\n",
      "|fourtwoxsxqqmqf3s...|\n",
      "|         bcbsfd14cjg|\n",
      "|95three6threendpq...|\n",
      "|tdmvthreeonefive8574|\n",
      "|   5eight82sixtwonev|\n",
      "|      ninemg2shhmsqh|\n",
      "|              thmlz4|\n",
      "|xtxjmm2tbbntrmdqx...|\n",
      "|vf19fourddfsvmzei...|\n",
      "+--------------------+\n",
      "only showing top 20 rows\n",
      "\n"
     ]
    }
   ],
   "source": [
    "df.show()"
   ]
  },
  {
   "cell_type": "code",
   "execution_count": 8,
   "metadata": {},
   "outputs": [
    {
     "data": {
      "text/html": [
       "<table border='1'>\n",
       "<tr><th>sum(calc)</th></tr>\n",
       "<tr><td>54573.0</td></tr>\n",
       "</table>\n"
      ],
      "text/plain": [
       "+---------+\n",
       "|sum(calc)|\n",
       "+---------+\n",
       "|  54573.0|\n",
       "+---------+"
      ]
     },
     "execution_count": 8,
     "metadata": {},
     "output_type": "execute_result"
    }
   ],
   "source": [
    "df = df.withColumn(\"numbers\", col(\"_c0\"))\\\n",
    "    .withColumn(\"numbers\", regexp_replace(col(\"numbers\"), \"[^0-9]\", \"\"))\\\n",
    "    .withColumn(\"first\", (substring(col('numbers'),1,1)))\\\n",
    "    .withColumn(\"last\",(substring(col('numbers'),-1,1)))\\\n",
    "    .withColumn('calc',concat(col('first'),col('last')).cast(DoubleType()))\n",
    "print(df.agg(sum('calc')))"
   ]
  },
  {
   "cell_type": "markdown",
   "metadata": {},
   "source": [
    "#### Part 2"
   ]
  },
  {
   "cell_type": "code",
   "execution_count": 10,
   "metadata": {},
   "outputs": [
    {
     "name": "stdout",
     "output_type": "stream",
     "text": [
      "+---------+\n",
      "|sum(calc)|\n",
      "+---------+\n",
      "|  54591.0|\n",
      "+---------+\n",
      "\n"
     ]
    }
   ],
   "source": [
    "df = df.withColumn(\"numbers\", col(\"_c0\"))\\\n",
    "    .withColumn(\"numbers\", regexp_replace(\"numbers\", \"one\", \"o1ne\"))\\\n",
    "    .withColumn(\"numbers\", regexp_replace(\"numbers\", \"two\", \"tw2o\"))\\\n",
    "    .withColumn(\"numbers\", regexp_replace(\"numbers\", \"three\", \"th3ree\"))\\\n",
    "    .withColumn(\"numbers\", regexp_replace(\"numbers\", \"four\", \"fo4ur\"))\\\n",
    "    .withColumn(\"numbers\", regexp_replace(\"numbers\", \"five\", \"fi5ve\"))\\\n",
    "    .withColumn(\"numbers\", regexp_replace(\"numbers\", \"six\", \"s6ix\"))\\\n",
    "    .withColumn(\"numbers\", regexp_replace(\"numbers\", \"seven\", \"se7ven\"))\\\n",
    "    .withColumn(\"numbers\", regexp_replace(\"numbers\", \"eight\", \"ei8ght\"))\\\n",
    "    .withColumn(\"numbers\", regexp_replace(\"numbers\", \"nine\", \"ni9ne\"))\\\n",
    "    .withColumn(\"numbers\", regexp_replace(col(\"numbers\"), \"[^0-9]\", \"\"))\\\n",
    "    .withColumn(\"first\", (substring(col('numbers'),1,1)))\\\n",
    "    .withColumn(\"last\",(substring(col('numbers'),-1,1)))\\\n",
    "    .withColumn('calc',concat(col('first'),col('last')).cast(DoubleType()))\n",
    "print(df.agg(sum('calc')))"
   ]
  },
  {
   "cell_type": "markdown",
   "metadata": {},
   "source": [
    "#### Reference"
   ]
  },
  {
   "cell_type": "markdown",
   "metadata": {},
   "source": [
    "#Restart kernel before executing"
   ]
  },
  {
   "cell_type": "code",
   "execution_count": 1,
   "metadata": {},
   "outputs": [
    {
     "name": "stdout",
     "output_type": "stream",
     "text": [
      "Part 1: 54573\n",
      "Part 2: 54591\n"
     ]
    }
   ],
   "source": [
    "input = list()\n",
    "\n",
    "with open('data/1.csv', 'r') as f:\n",
    "    for line in f:\n",
    "        input.append(line.rstrip())\n",
    "\n",
    "def part1():\n",
    "    values = list()\n",
    "\n",
    "    for line in input:\n",
    "        first = \"\"\n",
    "        last = \"\"\n",
    "\n",
    "        for char in line:\n",
    "            if char in \"0123456789\":\n",
    "                first = char\n",
    "                break\n",
    "        \n",
    "        \n",
    "        for char in reversed(line):\n",
    "            if char in \"0123456789\":\n",
    "                last = char\n",
    "                break\n",
    "\n",
    "        values.append(int(first + last))\n",
    "\n",
    "    return sum(values)\n",
    "\n",
    "def part2():\n",
    "    num_words = {\n",
    "        \"zero\": \"0\",\n",
    "        \"one\": \"1\",\n",
    "        \"two\": \"2\",\n",
    "        \"three\": \"3\",\n",
    "        \"four\": \"4\",\n",
    "        \"five\": \"5\",\n",
    "        \"six\": \"6\",\n",
    "        \"seven\": \"7\",\n",
    "        \"eight\": \"8\",\n",
    "        \"nine\": \"9\",\n",
    "    }\n",
    "\n",
    "    values = list()\n",
    "\n",
    "    for line in input:\n",
    "        first = \"\"\n",
    "        last = \"\"\n",
    "\n",
    "        for index, char in enumerate(line):\n",
    "            if char in \"0123456789\":\n",
    "                if not first:\n",
    "                    first = char\n",
    "                last = char\n",
    "            else:\n",
    "                for key, value in num_words.items():\n",
    "                    key_length = len(key)\n",
    "                    if index + key_length <= len(line):\n",
    "                        if line[index:index+key_length] == key:\n",
    "                            if not first:\n",
    "                                first = value\n",
    "                            last = value\n",
    "                            break\n",
    "\n",
    "        values.append(int(first + last))\n",
    "        \n",
    "    return sum(values)\n",
    "\n",
    "\n",
    "print(f\"Part 1: {str(part1())}\")\n",
    "print(f\"Part 2: {str(part2())}\")"
   ]
  }
 ],
 "metadata": {
  "kernelspec": {
   "display_name": "pyspark",
   "language": "python",
   "name": "python3"
  },
  "language_info": {
   "codemirror_mode": {
    "name": "ipython",
    "version": 3
   },
   "file_extension": ".py",
   "mimetype": "text/x-python",
   "name": "python",
   "nbconvert_exporter": "python",
   "pygments_lexer": "ipython3",
   "version": "3.10.12"
  }
 },
 "nbformat": 4,
 "nbformat_minor": 2
}
