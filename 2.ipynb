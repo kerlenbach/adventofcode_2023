{
 "cells": [
  {
   "cell_type": "code",
   "execution_count": 20,
   "metadata": {},
   "outputs": [],
   "source": [
    "\n",
    "from pyspark.sql.functions import sum, when, col, lit, min, max, count, countDistinct, isnan, greatest\n",
    "from pyspark.sql.functions import row_number, regexp_replace, regexp_extract, substring, concat, replace, split, explode, map_from_arrays, regexp_extract_all, coalesce\n",
    "from pyspark.sql.functions import dateadd, format_number\n",
    "from pyspark.sql.types import *\n",
    "from pyspark.sql.window import Window\n",
    "from pyspark.sql import SparkSession\n",
    "import pandas as pd\n",
    "from functools import reduce\n",
    "from pyspark.sql import functions as F\n"
   ]
  },
  {
   "cell_type": "code",
   "execution_count": 21,
   "metadata": {},
   "outputs": [],
   "source": [
    "spark = SparkSession \\\n",
    "    .builder \\\n",
    "    .appName(\"App Ad\").getOrCreate()\n",
    "#    .config(\"spark.some.config.option\", \"some-value\") \\\n",
    "\n",
    "spark.conf.set(\"spark.sql.repl.eagerEval.enabled\", True)"
   ]
  },
  {
   "cell_type": "code",
   "execution_count": 22,
   "metadata": {},
   "outputs": [],
   "source": [
    "file = \"data/2.csv\"\n",
    "\n",
    "df = spark.read.format(\"csv\") \\\n",
    "       .option(\"sep\", \";\")\\\n",
    "       .option(\"header\", \"false\") \\\n",
    "       .option(\"inferSchema\", \"true\") \\\n",
    "       .load(file) \n",
    "\n",
    "column_names = []\n",
    "for i in range(len(df.columns)):\n",
    "    column_names.append(\"set\" + str(i))\n",
    "df = df.toDF(*column_names)"
   ]
  },
  {
   "cell_type": "code",
   "execution_count": 23,
   "metadata": {},
   "outputs": [
    {
     "name": "stdout",
     "output_type": "stream",
     "text": [
      "100\n",
      "6\n"
     ]
    }
   ],
   "source": [
    "print(df.count())\n",
    "print(len(df.columns))\n"
   ]
  },
  {
   "cell_type": "code",
   "execution_count": 24,
   "metadata": {},
   "outputs": [
    {
     "name": "stdout",
     "output_type": "stream",
     "text": [
      "+---------------------------------+-------------------------+--------------------------+--------------------------+-------------------------+------------------------+\n",
      "|set0                             |set1                     |set2                      |set3                      |set4                     |set5                    |\n",
      "+---------------------------------+-------------------------+--------------------------+--------------------------+-------------------------+------------------------+\n",
      "|Game 1: 1 green, 1 blue, 1 red   | 1 green, 8 red, 7 blue  | 6 blue, 10 red           | 4 red, 9 blue, 2 green   | 1 green, 3 blue         | 4 red, 1 green, 10 blue|\n",
      "|Game 2: 9 red, 7 green, 3 blue   | 15 green, 2 blue, 5 red | 10 red, 3 blue, 13 green |NULL                      |NULL                     |NULL                    |\n",
      "|Game 3: 3 red, 1 blue, 4 green   | 6 red, 3 green, 2 blue  | 6 red, 16 blue, 1 green  |NULL                      |NULL                     |NULL                    |\n",
      "|Game 4: 2 blue, 2 green, 19 red  | 3 blue, 11 red, 16 green| 18 blue, 13 green, 20 red| 18 red, 12 blue, 16 green| 8 green, 16 blue, 16 red|NULL                    |\n",
      "|Game 5: 8 green, 1 red, 12 blue  | 10 green, 6 red, 13 blue| 1 red, 3 blue, 6 green   | 14 blue, 2 red, 7 green  |NULL                     |NULL                    |\n",
      "|Game 6: 1 red                    | 1 blue                  | 2 green, 1 blue          | 1 red, 3 blue            | 1 red, 2 blue, 2 green  | 1 green, 7 blue, 1 red |\n",
      "|Game 7: 2 red, 1 blue, 5 green   | 5 green, 1 red          | 3 red, 7 blue            | 8 blue, 1 red, 4 green   |NULL                     |NULL                    |\n",
      "|Game 8: 6 green, 4 blue          | 10 green, 7 blue        | 5 blue                   | 1 red, 7 blue            | 11 green, 1 red         |NULL                    |\n",
      "|Game 9: 2 green, 2 blue          | 8 red, 5 blue, 6 green  | 11 green, 6 blue, 8 red  | 4 blue, 3 green, 8 red   | 2 green, 10 red, 5 blue |NULL                    |\n",
      "|Game 10: 2 blue, 8 green, 2 red  | 10 blue, 3 green        | 12 blue, 1 green, 2 red  | 9 green, 2 red           | 3 green, 2 red, 5 blue  |NULL                    |\n",
      "|Game 11: 12 red, 1 green, 1 blue | 7 green, 1 red          | 2 blue, 1 red, 3 green   | 15 green, 8 red          |NULL                     |NULL                    |\n",
      "|Game 12: 4 red, 10 green, 4 blue | 3 red, 10 blue, 18 green| 5 red, 2 blue, 18 green  | 8 blue, 16 green, 2 red  |NULL                     |NULL                    |\n",
      "|Game 13: 3 green, 1 blue, 8 red  | 8 blue, 2 green, 6 red  | 6 blue, 3 green, 11 red  | 2 red, 13 blue           | 1 blue, 5 red, 2 green  | 6 red                  |\n",
      "|Game 14: 3 blue, 15 green, 10 red| 7 green, 6 red, 6 blue  | 8 red, 13 green, 4 blue  | 4 green, 1 blue, 9 red   | 9 red, 7 blue           |NULL                    |\n",
      "|Game 15: 8 green, 9 blue, 4 red  | 8 blue, 4 green, 4 red  | 8 green, 7 blue, 10 red  |NULL                      |NULL                     |NULL                    |\n",
      "|Game 16: 12 red, 8 blue, 2 green | 4 green, 10 red, 4 blue | 9 green, 4 blue, 5 red   | 7 red, 1 blue            |NULL                     |NULL                    |\n",
      "|Game 17: 1 blue, 4 red, 6 green  | 1 blue                  | 6 red, 8 blue, 10 green  | 2 blue, 2 red, 3 green   | 8 green, 14 red, 6 blue |NULL                    |\n",
      "|Game 18: 5 blue, 1 green, 5 red  | 1 green, 11 blue        | 3 green, 18 red, 8 blue  |NULL                      |NULL                     |NULL                    |\n",
      "|Game 19: 2 blue, 2 red, 16 green | 5 blue, 2 red, 17 green | 10 green, 6 blue         | 2 blue, 11 green         | 15 green, 3 blue, 5 red | 18 green, 8 red        |\n",
      "|Game 20: 7 red, 6 green, 3 blue  | 7 red, 16 green         | 1 blue, 6 green          | 1 green, 7 red           |NULL                     |NULL                    |\n",
      "+---------------------------------+-------------------------+--------------------------+--------------------------+-------------------------+------------------------+\n",
      "only showing top 20 rows\n",
      "\n"
     ]
    }
   ],
   "source": [
    "df.show(truncate=False)"
   ]
  },
  {
   "cell_type": "code",
   "execution_count": 25,
   "metadata": {},
   "outputs": [
    {
     "name": "stdout",
     "output_type": "stream",
     "text": [
      "+-------------------------+-------------------------+--------------------------+--------------------------+-------------------------+------------------------+-------+\n",
      "|set0                     |set1                     |set2                      |set3                      |set4                     |set5                    |game_no|\n",
      "+-------------------------+-------------------------+--------------------------+--------------------------+-------------------------+------------------------+-------+\n",
      "| 1 green, 1 blue, 1 red  | 1 green, 8 red, 7 blue  | 6 blue, 10 red           | 4 red, 9 blue, 2 green   | 1 green, 3 blue         | 4 red, 1 green, 10 blue|1.0    |\n",
      "| 9 red, 7 green, 3 blue  | 15 green, 2 blue, 5 red | 10 red, 3 blue, 13 green |NULL                      |NULL                     |NULL                    |2.0    |\n",
      "| 3 red, 1 blue, 4 green  | 6 red, 3 green, 2 blue  | 6 red, 16 blue, 1 green  |NULL                      |NULL                     |NULL                    |3.0    |\n",
      "| 2 blue, 2 green, 19 red | 3 blue, 11 red, 16 green| 18 blue, 13 green, 20 red| 18 red, 12 blue, 16 green| 8 green, 16 blue, 16 red|NULL                    |4.0    |\n",
      "| 8 green, 1 red, 12 blue | 10 green, 6 red, 13 blue| 1 red, 3 blue, 6 green   | 14 blue, 2 red, 7 green  |NULL                     |NULL                    |5.0    |\n",
      "| 1 red                   | 1 blue                  | 2 green, 1 blue          | 1 red, 3 blue            | 1 red, 2 blue, 2 green  | 1 green, 7 blue, 1 red |6.0    |\n",
      "| 2 red, 1 blue, 5 green  | 5 green, 1 red          | 3 red, 7 blue            | 8 blue, 1 red, 4 green   |NULL                     |NULL                    |7.0    |\n",
      "| 6 green, 4 blue         | 10 green, 7 blue        | 5 blue                   | 1 red, 7 blue            | 11 green, 1 red         |NULL                    |8.0    |\n",
      "| 2 green, 2 blue         | 8 red, 5 blue, 6 green  | 11 green, 6 blue, 8 red  | 4 blue, 3 green, 8 red   | 2 green, 10 red, 5 blue |NULL                    |9.0    |\n",
      "| 2 blue, 8 green, 2 red  | 10 blue, 3 green        | 12 blue, 1 green, 2 red  | 9 green, 2 red           | 3 green, 2 red, 5 blue  |NULL                    |10.0   |\n",
      "| 12 red, 1 green, 1 blue | 7 green, 1 red          | 2 blue, 1 red, 3 green   | 15 green, 8 red          |NULL                     |NULL                    |11.0   |\n",
      "| 4 red, 10 green, 4 blue | 3 red, 10 blue, 18 green| 5 red, 2 blue, 18 green  | 8 blue, 16 green, 2 red  |NULL                     |NULL                    |12.0   |\n",
      "| 3 green, 1 blue, 8 red  | 8 blue, 2 green, 6 red  | 6 blue, 3 green, 11 red  | 2 red, 13 blue           | 1 blue, 5 red, 2 green  | 6 red                  |13.0   |\n",
      "| 3 blue, 15 green, 10 red| 7 green, 6 red, 6 blue  | 8 red, 13 green, 4 blue  | 4 green, 1 blue, 9 red   | 9 red, 7 blue           |NULL                    |14.0   |\n",
      "| 8 green, 9 blue, 4 red  | 8 blue, 4 green, 4 red  | 8 green, 7 blue, 10 red  |NULL                      |NULL                     |NULL                    |15.0   |\n",
      "| 12 red, 8 blue, 2 green | 4 green, 10 red, 4 blue | 9 green, 4 blue, 5 red   | 7 red, 1 blue            |NULL                     |NULL                    |16.0   |\n",
      "| 1 blue, 4 red, 6 green  | 1 blue                  | 6 red, 8 blue, 10 green  | 2 blue, 2 red, 3 green   | 8 green, 14 red, 6 blue |NULL                    |17.0   |\n",
      "| 5 blue, 1 green, 5 red  | 1 green, 11 blue        | 3 green, 18 red, 8 blue  |NULL                      |NULL                     |NULL                    |18.0   |\n",
      "| 2 blue, 2 red, 16 green | 5 blue, 2 red, 17 green | 10 green, 6 blue         | 2 blue, 11 green         | 15 green, 3 blue, 5 red | 18 green, 8 red        |19.0   |\n",
      "| 7 red, 6 green, 3 blue  | 7 red, 16 green         | 1 blue, 6 green          | 1 green, 7 red           |NULL                     |NULL                    |20.0   |\n",
      "+-------------------------+-------------------------+--------------------------+--------------------------+-------------------------+------------------------+-------+\n",
      "only showing top 20 rows\n",
      "\n"
     ]
    }
   ],
   "source": [
    "df = df.withColumn(\"game_no\", split(df[\"set0\"], \":\")[0])\n",
    "df = df.withColumn(\"set0\", split(df[\"set0\"], \":\")[1])\n",
    "df = df.withColumn('game_no',regexp_replace('game_no','Game ',\"\").cast(DoubleType()))\n",
    "\n",
    "df.show(truncate=False)"
   ]
  },
  {
   "cell_type": "code",
   "execution_count": 26,
   "metadata": {},
   "outputs": [
    {
     "name": "stdout",
     "output_type": "stream",
     "text": [
      "+-------------------------+-------------------------+--------------------------+--------------------------+-------------------------+------------------------+-------+-----------------------------------+-----------------------------------+------------------------------------+------------------------------------+-----------------------------------+----------------------------------+\n",
      "|set0                     |set1                     |set2                      |set3                      |set4                     |set5                    |game_no|set0_array                         |set1_array                         |set2_array                          |set3_array                          |set4_array                         |set5_array                        |\n",
      "+-------------------------+-------------------------+--------------------------+--------------------------+-------------------------+------------------------+-------+-----------------------------------+-----------------------------------+------------------------------------+------------------------------------+-----------------------------------+----------------------------------+\n",
      "| 1 green, 1 blue, 1 red  | 1 green, 8 red, 7 blue  | 6 blue, 10 red           | 4 red, 9 blue, 2 green   | 1 green, 3 blue         | 4 red, 1 green, 10 blue|1.0    |{green -> 1, blue -> 1, red -> 1}  |{green -> 1, red -> 8, blue -> 7}  |{blue -> 6, red -> 10}              |{red -> 4, blue -> 9, green -> 2}   |{green -> 1, blue -> 3}            |{red -> 4, green -> 1, blue -> 10}|\n",
      "| 9 red, 7 green, 3 blue  | 15 green, 2 blue, 5 red | 10 red, 3 blue, 13 green |NULL                      |NULL                     |NULL                    |2.0    |{red -> 9, green -> 7, blue -> 3}  |{green -> 15, blue -> 2, red -> 5} |{red -> 10, blue -> 3, green -> 13} |NULL                                |NULL                               |NULL                              |\n",
      "| 3 red, 1 blue, 4 green  | 6 red, 3 green, 2 blue  | 6 red, 16 blue, 1 green  |NULL                      |NULL                     |NULL                    |3.0    |{red -> 3, blue -> 1, green -> 4}  |{red -> 6, green -> 3, blue -> 2}  |{red -> 6, blue -> 16, green -> 1}  |NULL                                |NULL                               |NULL                              |\n",
      "| 2 blue, 2 green, 19 red | 3 blue, 11 red, 16 green| 18 blue, 13 green, 20 red| 18 red, 12 blue, 16 green| 8 green, 16 blue, 16 red|NULL                    |4.0    |{blue -> 2, green -> 2, red -> 19} |{blue -> 3, red -> 11, green -> 16}|{blue -> 18, green -> 13, red -> 20}|{red -> 18, blue -> 12, green -> 16}|{green -> 8, blue -> 16, red -> 16}|NULL                              |\n",
      "| 8 green, 1 red, 12 blue | 10 green, 6 red, 13 blue| 1 red, 3 blue, 6 green   | 14 blue, 2 red, 7 green  |NULL                     |NULL                    |5.0    |{green -> 8, red -> 1, blue -> 12} |{green -> 10, red -> 6, blue -> 13}|{red -> 1, blue -> 3, green -> 6}   |{blue -> 14, red -> 2, green -> 7}  |NULL                               |NULL                              |\n",
      "| 1 red                   | 1 blue                  | 2 green, 1 blue          | 1 red, 3 blue            | 1 red, 2 blue, 2 green  | 1 green, 7 blue, 1 red |6.0    |{red -> 1}                         |{blue -> 1}                        |{green -> 2, blue -> 1}             |{red -> 1, blue -> 3}               |{red -> 1, blue -> 2, green -> 2}  |{green -> 1, blue -> 7, red -> 1} |\n",
      "| 2 red, 1 blue, 5 green  | 5 green, 1 red          | 3 red, 7 blue            | 8 blue, 1 red, 4 green   |NULL                     |NULL                    |7.0    |{red -> 2, blue -> 1, green -> 5}  |{green -> 5, red -> 1}             |{red -> 3, blue -> 7}               |{blue -> 8, red -> 1, green -> 4}   |NULL                               |NULL                              |\n",
      "| 6 green, 4 blue         | 10 green, 7 blue        | 5 blue                   | 1 red, 7 blue            | 11 green, 1 red         |NULL                    |8.0    |{green -> 6, blue -> 4}            |{green -> 10, blue -> 7}           |{blue -> 5}                         |{red -> 1, blue -> 7}               |{green -> 11, red -> 1}            |NULL                              |\n",
      "| 2 green, 2 blue         | 8 red, 5 blue, 6 green  | 11 green, 6 blue, 8 red  | 4 blue, 3 green, 8 red   | 2 green, 10 red, 5 blue |NULL                    |9.0    |{green -> 2, blue -> 2}            |{red -> 8, blue -> 5, green -> 6}  |{green -> 11, blue -> 6, red -> 8}  |{blue -> 4, green -> 3, red -> 8}   |{green -> 2, red -> 10, blue -> 5} |NULL                              |\n",
      "| 2 blue, 8 green, 2 red  | 10 blue, 3 green        | 12 blue, 1 green, 2 red  | 9 green, 2 red           | 3 green, 2 red, 5 blue  |NULL                    |10.0   |{blue -> 2, green -> 8, red -> 2}  |{blue -> 10, green -> 3}           |{blue -> 12, green -> 1, red -> 2}  |{green -> 9, red -> 2}              |{green -> 3, red -> 2, blue -> 5}  |NULL                              |\n",
      "| 12 red, 1 green, 1 blue | 7 green, 1 red          | 2 blue, 1 red, 3 green   | 15 green, 8 red          |NULL                     |NULL                    |11.0   |{red -> 12, green -> 1, blue -> 1} |{green -> 7, red -> 1}             |{blue -> 2, red -> 1, green -> 3}   |{green -> 15, red -> 8}             |NULL                               |NULL                              |\n",
      "| 4 red, 10 green, 4 blue | 3 red, 10 blue, 18 green| 5 red, 2 blue, 18 green  | 8 blue, 16 green, 2 red  |NULL                     |NULL                    |12.0   |{red -> 4, green -> 10, blue -> 4} |{red -> 3, blue -> 10, green -> 18}|{red -> 5, blue -> 2, green -> 18}  |{blue -> 8, green -> 16, red -> 2}  |NULL                               |NULL                              |\n",
      "| 3 green, 1 blue, 8 red  | 8 blue, 2 green, 6 red  | 6 blue, 3 green, 11 red  | 2 red, 13 blue           | 1 blue, 5 red, 2 green  | 6 red                  |13.0   |{green -> 3, blue -> 1, red -> 8}  |{blue -> 8, green -> 2, red -> 6}  |{blue -> 6, green -> 3, red -> 11}  |{red -> 2, blue -> 13}              |{blue -> 1, red -> 5, green -> 2}  |{red -> 6}                        |\n",
      "| 3 blue, 15 green, 10 red| 7 green, 6 red, 6 blue  | 8 red, 13 green, 4 blue  | 4 green, 1 blue, 9 red   | 9 red, 7 blue           |NULL                    |14.0   |{blue -> 3, green -> 15, red -> 10}|{green -> 7, red -> 6, blue -> 6}  |{red -> 8, green -> 13, blue -> 4}  |{green -> 4, blue -> 1, red -> 9}   |{red -> 9, blue -> 7}              |NULL                              |\n",
      "| 8 green, 9 blue, 4 red  | 8 blue, 4 green, 4 red  | 8 green, 7 blue, 10 red  |NULL                      |NULL                     |NULL                    |15.0   |{green -> 8, blue -> 9, red -> 4}  |{blue -> 8, green -> 4, red -> 4}  |{green -> 8, blue -> 7, red -> 10}  |NULL                                |NULL                               |NULL                              |\n",
      "| 12 red, 8 blue, 2 green | 4 green, 10 red, 4 blue | 9 green, 4 blue, 5 red   | 7 red, 1 blue            |NULL                     |NULL                    |16.0   |{red -> 12, blue -> 8, green -> 2} |{green -> 4, red -> 10, blue -> 4} |{green -> 9, blue -> 4, red -> 5}   |{red -> 7, blue -> 1}               |NULL                               |NULL                              |\n",
      "| 1 blue, 4 red, 6 green  | 1 blue                  | 6 red, 8 blue, 10 green  | 2 blue, 2 red, 3 green   | 8 green, 14 red, 6 blue |NULL                    |17.0   |{blue -> 1, red -> 4, green -> 6}  |{blue -> 1}                        |{red -> 6, blue -> 8, green -> 10}  |{blue -> 2, red -> 2, green -> 3}   |{green -> 8, red -> 14, blue -> 6} |NULL                              |\n",
      "| 5 blue, 1 green, 5 red  | 1 green, 11 blue        | 3 green, 18 red, 8 blue  |NULL                      |NULL                     |NULL                    |18.0   |{blue -> 5, green -> 1, red -> 5}  |{green -> 1, blue -> 11}           |{green -> 3, red -> 18, blue -> 8}  |NULL                                |NULL                               |NULL                              |\n",
      "| 2 blue, 2 red, 16 green | 5 blue, 2 red, 17 green | 10 green, 6 blue         | 2 blue, 11 green         | 15 green, 3 blue, 5 red | 18 green, 8 red        |19.0   |{blue -> 2, red -> 2, green -> 16} |{blue -> 5, red -> 2, green -> 17} |{green -> 10, blue -> 6}            |{blue -> 2, green -> 11}            |{green -> 15, blue -> 3, red -> 5} |{green -> 18, red -> 8}           |\n",
      "| 7 red, 6 green, 3 blue  | 7 red, 16 green         | 1 blue, 6 green          | 1 green, 7 red           |NULL                     |NULL                    |20.0   |{red -> 7, green -> 6, blue -> 3}  |{red -> 7, green -> 16}            |{blue -> 1, green -> 6}             |{green -> 1, red -> 7}              |NULL                               |NULL                              |\n",
      "+-------------------------+-------------------------+--------------------------+--------------------------+-------------------------+------------------------+-------+-----------------------------------+-----------------------------------+------------------------------------+------------------------------------+-----------------------------------+----------------------------------+\n",
      "only showing top 20 rows\n",
      "\n"
     ]
    }
   ],
   "source": [
    "for i in column_names:\n",
    "    df = df.withColumn(i + '_array', map_from_arrays(regexp_extract_all(i, lit(r\"(\\d+)\\s(\\w+)\"), 2), regexp_extract_all(i, lit(r\"(\\d+)\\s(\\w+)\"), 1)))\n",
    "\n",
    "# df = df.withColumn(\"set0_map\", map_from_arrays(regexp_extract_all(\"set0\", lit(r\"(\\d+)\\s(\\w+)\"), 2), regexp_extract_all(\"set0\", lit(r\"(\\d+)\\s(\\w+)\"), 1)))\\\n",
    "#     .withColumn(\"set1_map\", map_from_arrays(regexp_extract_all(\"set1\", lit(r\"(\\d+)\\s(\\w+)\"), 2), regexp_extract_all(\"set1\", lit(r\"(\\d+)\\s(\\w+)\"), 1)))\\\n",
    "#     .withColumn(\"set2_map\", map_from_arrays(regexp_extract_all(\"set2\", lit(r\"(\\d+)\\s(\\w+)\"), 2), regexp_extract_all(\"set2\", lit(r\"(\\d+)\\s(\\w+)\"), 1)))\\\n",
    "#     .withColumn(\"set3_map\", map_from_arrays(regexp_extract_all(\"set3\", lit(r\"(\\d+)\\s(\\w+)\"), 2), regexp_extract_all(\"set3\", lit(r\"(\\d+)\\s(\\w+)\"), 1)))\\\n",
    "#     .withColumn(\"set4_map\", map_from_arrays(regexp_extract_all(\"set4\", lit(r\"(\\d+)\\s(\\w+)\"), 2), regexp_extract_all(\"set4\", lit(r\"(\\d+)\\s(\\w+)\"), 1)))\\\n",
    "#     .withColumn(\"set5_map\", map_from_arrays(regexp_extract_all(\"set5\", lit(r\"(\\d+)\\s(\\w+)\"), 2), regexp_extract_all(\"set5\", lit(r\"(\\d+)\\s(\\w+)\"), 1)))\n",
    "\n",
    "df.show(truncate=False)"
   ]
  },
  {
   "cell_type": "code",
   "execution_count": 27,
   "metadata": {},
   "outputs": [],
   "source": [
    "for i in column_names:\n",
    "    df = df.withColumn(i + '_pass', when((((col(i + '_array')['red'] <= 12)|(col(i + '_array')['red']).isNull())\\\n",
    "                                           & ((col(i + '_array')['green'] <= 13)|(col(i + '_array')['green']).isNull()) \\\n",
    "                                            & ((col(i + '_array')['blue'] <= 14)|(col(i + '_array')['blue']).isNull())), True).otherwise(False))\n",
    "\n",
    "# df = df.withColumn('set0_pass', when(((col('set0_map')['red'] <= 12) & (col('set0_map')['green'] <= 13) & (col('set0_map')['blue'] <= 14)), True).otherwise(False))\\\n",
    "#     .withColumn('set1_pass', when(((col('set1_map')['red'] <= 12) & (col('set1_map')['green'] <= 13) & (col('set1_map')['blue'] <= 14)), True).otherwise(False))\\\n",
    "#     .withColumn('set2_pass', when(((col('set2_map')['red'] <= 12) & (col('set2_map')['green'] <= 13) & (col('set2_map')['blue'] <= 14)), True).otherwise(False))\\\n",
    "#     .withColumn('set3_pass', when(((col('set3_map')['red'] <= 12) & (col('set3_map')['green'] <= 13) & (col('set3_map')['blue'] <= 14)), True).otherwise(False))\\\n",
    "#     .withColumn('set4_pass', when(((col('set4_map')['red'] <= 12) & (col('set4_map')['green'] <= 13) & (col('set4_map')['blue'] <= 14)), True).otherwise(False))\\\n",
    "#     .withColumn('set5_pass', when(((col('set5_map')['red'] <= 12) & (col('set5_map')['green'] <= 13) & (col('set5_map')['blue'] <= 14)), True).otherwise(False))\n",
    "\n",
    "df = df.withColumn('all_pass', when(reduce(lambda x, y: x & y, [col(c + '_pass') == True for c in column_names]), lit(1)).otherwise(lit(0)))"
   ]
  },
  {
   "cell_type": "code",
   "execution_count": 28,
   "metadata": {},
   "outputs": [
    {
     "name": "stdout",
     "output_type": "stream",
     "text": [
      "+-------------------------+-------------------------+--------------------------+--------------------------+-------------------------+------------------------+-------+-----------------------------------+-----------------------------------+------------------------------------+------------------------------------+-----------------------------------+----------------------------------+---------+---------+---------+---------+---------+---------+--------+\n",
      "|set0                     |set1                     |set2                      |set3                      |set4                     |set5                    |game_no|set0_array                         |set1_array                         |set2_array                          |set3_array                          |set4_array                         |set5_array                        |set0_pass|set1_pass|set2_pass|set3_pass|set4_pass|set5_pass|all_pass|\n",
      "+-------------------------+-------------------------+--------------------------+--------------------------+-------------------------+------------------------+-------+-----------------------------------+-----------------------------------+------------------------------------+------------------------------------+-----------------------------------+----------------------------------+---------+---------+---------+---------+---------+---------+--------+\n",
      "| 1 green, 1 blue, 1 red  | 1 green, 8 red, 7 blue  | 6 blue, 10 red           | 4 red, 9 blue, 2 green   | 1 green, 3 blue         | 4 red, 1 green, 10 blue|1.0    |{green -> 1, blue -> 1, red -> 1}  |{green -> 1, red -> 8, blue -> 7}  |{blue -> 6, red -> 10}              |{red -> 4, blue -> 9, green -> 2}   |{green -> 1, blue -> 3}            |{red -> 4, green -> 1, blue -> 10}|true     |true     |true     |true     |true     |true     |1       |\n",
      "| 9 red, 7 green, 3 blue  | 15 green, 2 blue, 5 red | 10 red, 3 blue, 13 green |NULL                      |NULL                     |NULL                    |2.0    |{red -> 9, green -> 7, blue -> 3}  |{green -> 15, blue -> 2, red -> 5} |{red -> 10, blue -> 3, green -> 13} |NULL                                |NULL                               |NULL                              |true     |false    |true     |true     |true     |true     |0       |\n",
      "| 3 red, 1 blue, 4 green  | 6 red, 3 green, 2 blue  | 6 red, 16 blue, 1 green  |NULL                      |NULL                     |NULL                    |3.0    |{red -> 3, blue -> 1, green -> 4}  |{red -> 6, green -> 3, blue -> 2}  |{red -> 6, blue -> 16, green -> 1}  |NULL                                |NULL                               |NULL                              |true     |true     |false    |true     |true     |true     |0       |\n",
      "| 2 blue, 2 green, 19 red | 3 blue, 11 red, 16 green| 18 blue, 13 green, 20 red| 18 red, 12 blue, 16 green| 8 green, 16 blue, 16 red|NULL                    |4.0    |{blue -> 2, green -> 2, red -> 19} |{blue -> 3, red -> 11, green -> 16}|{blue -> 18, green -> 13, red -> 20}|{red -> 18, blue -> 12, green -> 16}|{green -> 8, blue -> 16, red -> 16}|NULL                              |false    |false    |false    |false    |false    |true     |0       |\n",
      "| 8 green, 1 red, 12 blue | 10 green, 6 red, 13 blue| 1 red, 3 blue, 6 green   | 14 blue, 2 red, 7 green  |NULL                     |NULL                    |5.0    |{green -> 8, red -> 1, blue -> 12} |{green -> 10, red -> 6, blue -> 13}|{red -> 1, blue -> 3, green -> 6}   |{blue -> 14, red -> 2, green -> 7}  |NULL                               |NULL                              |true     |true     |true     |true     |true     |true     |1       |\n",
      "| 1 red                   | 1 blue                  | 2 green, 1 blue          | 1 red, 3 blue            | 1 red, 2 blue, 2 green  | 1 green, 7 blue, 1 red |6.0    |{red -> 1}                         |{blue -> 1}                        |{green -> 2, blue -> 1}             |{red -> 1, blue -> 3}               |{red -> 1, blue -> 2, green -> 2}  |{green -> 1, blue -> 7, red -> 1} |true     |true     |true     |true     |true     |true     |1       |\n",
      "| 2 red, 1 blue, 5 green  | 5 green, 1 red          | 3 red, 7 blue            | 8 blue, 1 red, 4 green   |NULL                     |NULL                    |7.0    |{red -> 2, blue -> 1, green -> 5}  |{green -> 5, red -> 1}             |{red -> 3, blue -> 7}               |{blue -> 8, red -> 1, green -> 4}   |NULL                               |NULL                              |true     |true     |true     |true     |true     |true     |1       |\n",
      "| 6 green, 4 blue         | 10 green, 7 blue        | 5 blue                   | 1 red, 7 blue            | 11 green, 1 red         |NULL                    |8.0    |{green -> 6, blue -> 4}            |{green -> 10, blue -> 7}           |{blue -> 5}                         |{red -> 1, blue -> 7}               |{green -> 11, red -> 1}            |NULL                              |true     |true     |true     |true     |true     |true     |1       |\n",
      "| 2 green, 2 blue         | 8 red, 5 blue, 6 green  | 11 green, 6 blue, 8 red  | 4 blue, 3 green, 8 red   | 2 green, 10 red, 5 blue |NULL                    |9.0    |{green -> 2, blue -> 2}            |{red -> 8, blue -> 5, green -> 6}  |{green -> 11, blue -> 6, red -> 8}  |{blue -> 4, green -> 3, red -> 8}   |{green -> 2, red -> 10, blue -> 5} |NULL                              |true     |true     |true     |true     |true     |true     |1       |\n",
      "| 2 blue, 8 green, 2 red  | 10 blue, 3 green        | 12 blue, 1 green, 2 red  | 9 green, 2 red           | 3 green, 2 red, 5 blue  |NULL                    |10.0   |{blue -> 2, green -> 8, red -> 2}  |{blue -> 10, green -> 3}           |{blue -> 12, green -> 1, red -> 2}  |{green -> 9, red -> 2}              |{green -> 3, red -> 2, blue -> 5}  |NULL                              |true     |true     |true     |true     |true     |true     |1       |\n",
      "| 12 red, 1 green, 1 blue | 7 green, 1 red          | 2 blue, 1 red, 3 green   | 15 green, 8 red          |NULL                     |NULL                    |11.0   |{red -> 12, green -> 1, blue -> 1} |{green -> 7, red -> 1}             |{blue -> 2, red -> 1, green -> 3}   |{green -> 15, red -> 8}             |NULL                               |NULL                              |true     |true     |true     |false    |true     |true     |0       |\n",
      "| 4 red, 10 green, 4 blue | 3 red, 10 blue, 18 green| 5 red, 2 blue, 18 green  | 8 blue, 16 green, 2 red  |NULL                     |NULL                    |12.0   |{red -> 4, green -> 10, blue -> 4} |{red -> 3, blue -> 10, green -> 18}|{red -> 5, blue -> 2, green -> 18}  |{blue -> 8, green -> 16, red -> 2}  |NULL                               |NULL                              |true     |false    |false    |false    |true     |true     |0       |\n",
      "| 3 green, 1 blue, 8 red  | 8 blue, 2 green, 6 red  | 6 blue, 3 green, 11 red  | 2 red, 13 blue           | 1 blue, 5 red, 2 green  | 6 red                  |13.0   |{green -> 3, blue -> 1, red -> 8}  |{blue -> 8, green -> 2, red -> 6}  |{blue -> 6, green -> 3, red -> 11}  |{red -> 2, blue -> 13}              |{blue -> 1, red -> 5, green -> 2}  |{red -> 6}                        |true     |true     |true     |true     |true     |true     |1       |\n",
      "| 3 blue, 15 green, 10 red| 7 green, 6 red, 6 blue  | 8 red, 13 green, 4 blue  | 4 green, 1 blue, 9 red   | 9 red, 7 blue           |NULL                    |14.0   |{blue -> 3, green -> 15, red -> 10}|{green -> 7, red -> 6, blue -> 6}  |{red -> 8, green -> 13, blue -> 4}  |{green -> 4, blue -> 1, red -> 9}   |{red -> 9, blue -> 7}              |NULL                              |false    |true     |true     |true     |true     |true     |0       |\n",
      "| 8 green, 9 blue, 4 red  | 8 blue, 4 green, 4 red  | 8 green, 7 blue, 10 red  |NULL                      |NULL                     |NULL                    |15.0   |{green -> 8, blue -> 9, red -> 4}  |{blue -> 8, green -> 4, red -> 4}  |{green -> 8, blue -> 7, red -> 10}  |NULL                                |NULL                               |NULL                              |true     |true     |true     |true     |true     |true     |1       |\n",
      "| 12 red, 8 blue, 2 green | 4 green, 10 red, 4 blue | 9 green, 4 blue, 5 red   | 7 red, 1 blue            |NULL                     |NULL                    |16.0   |{red -> 12, blue -> 8, green -> 2} |{green -> 4, red -> 10, blue -> 4} |{green -> 9, blue -> 4, red -> 5}   |{red -> 7, blue -> 1}               |NULL                               |NULL                              |true     |true     |true     |true     |true     |true     |1       |\n",
      "| 1 blue, 4 red, 6 green  | 1 blue                  | 6 red, 8 blue, 10 green  | 2 blue, 2 red, 3 green   | 8 green, 14 red, 6 blue |NULL                    |17.0   |{blue -> 1, red -> 4, green -> 6}  |{blue -> 1}                        |{red -> 6, blue -> 8, green -> 10}  |{blue -> 2, red -> 2, green -> 3}   |{green -> 8, red -> 14, blue -> 6} |NULL                              |true     |true     |true     |true     |false    |true     |0       |\n",
      "| 5 blue, 1 green, 5 red  | 1 green, 11 blue        | 3 green, 18 red, 8 blue  |NULL                      |NULL                     |NULL                    |18.0   |{blue -> 5, green -> 1, red -> 5}  |{green -> 1, blue -> 11}           |{green -> 3, red -> 18, blue -> 8}  |NULL                                |NULL                               |NULL                              |true     |true     |false    |true     |true     |true     |0       |\n",
      "| 2 blue, 2 red, 16 green | 5 blue, 2 red, 17 green | 10 green, 6 blue         | 2 blue, 11 green         | 15 green, 3 blue, 5 red | 18 green, 8 red        |19.0   |{blue -> 2, red -> 2, green -> 16} |{blue -> 5, red -> 2, green -> 17} |{green -> 10, blue -> 6}            |{blue -> 2, green -> 11}            |{green -> 15, blue -> 3, red -> 5} |{green -> 18, red -> 8}           |false    |false    |true     |true     |false    |false    |0       |\n",
      "| 7 red, 6 green, 3 blue  | 7 red, 16 green         | 1 blue, 6 green          | 1 green, 7 red           |NULL                     |NULL                    |20.0   |{red -> 7, green -> 6, blue -> 3}  |{red -> 7, green -> 16}            |{blue -> 1, green -> 6}             |{green -> 1, red -> 7}              |NULL                               |NULL                              |true     |false    |true     |true     |true     |true     |0       |\n",
      "+-------------------------+-------------------------+--------------------------+--------------------------+-------------------------+------------------------+-------+-----------------------------------+-----------------------------------+------------------------------------+------------------------------------+-----------------------------------+----------------------------------+---------+---------+---------+---------+---------+---------+--------+\n",
      "only showing top 20 rows\n",
      "\n"
     ]
    }
   ],
   "source": [
    "df.show(truncate=False)"
   ]
  },
  {
   "cell_type": "code",
   "execution_count": 29,
   "metadata": {},
   "outputs": [
    {
     "name": "stdout",
     "output_type": "stream",
     "text": [
      "+--------+------------+\n",
      "|all_pass|sum(game_no)|\n",
      "+--------+------------+\n",
      "|       1|      3035.0|\n",
      "|       0|      2015.0|\n",
      "+--------+------------+\n",
      "\n"
     ]
    }
   ],
   "source": [
    "df.groupBy('all_pass').agg(sum(col('game_no'))).show()"
   ]
  },
  {
   "cell_type": "markdown",
   "metadata": {},
   "source": [
    "#### Part 2"
   ]
  },
  {
   "cell_type": "code",
   "execution_count": 30,
   "metadata": {},
   "outputs": [],
   "source": [
    "colors = ['red', 'blue','green']\n",
    "for color in colors:\n",
    "    df = df.withColumn(color + '_max', \n",
    "                       greatest(*[col(c + '_array')[color].cast(DoubleType()) \n",
    "                                  for c in column_names]))\n",
    "    \n",
    "df = df.fillna(0)\n",
    "df = df.withColumn('power', col('red_max') * col('blue_max') * col('green_max'))"
   ]
  },
  {
   "cell_type": "code",
   "execution_count": 31,
   "metadata": {},
   "outputs": [
    {
     "name": "stdout",
     "output_type": "stream",
     "text": [
      "+----------+\n",
      "|sum(power)|\n",
      "+----------+\n",
      "|   66027.0|\n",
      "+----------+\n",
      "\n"
     ]
    }
   ],
   "source": [
    "print(df.agg(sum(col('power'))))"
   ]
  },
  {
   "cell_type": "code",
   "execution_count": 32,
   "metadata": {},
   "outputs": [
    {
     "name": "stdout",
     "output_type": "stream",
     "text": [
      "Part 1 = 3035\n",
      "Part 2 = 66027\n"
     ]
    }
   ],
   "source": [
    "powerSum = 0\n",
    "sum = 0\n",
    "with open('data/2.csv') as input:\n",
    "\tfor line in input:\n",
    "\t\tgame = line.strip().split(':')\n",
    "\t\tmoves = game[1].split(';')\n",
    "\t\tgameID = int(game[0].strip().split(' ')[1])\n",
    "\t\tminRed = 0\n",
    "\t\tminGreen = 0\n",
    "\t\tminBlue = 0\n",
    "\t\tfor move in moves:\n",
    "\t\t\tpieces = move.strip().split(',')\n",
    "\t\t\tfor piece in pieces:\n",
    "\t\t\t\tcount = int(piece.strip().split(' ')[0])\n",
    "\t\t\t\tcolor = piece.strip().split(' ')[1]\n",
    "\t\t\t\tif color == 'red' and count > minRed:\n",
    "\t\t\t\t\tminRed = count\n",
    "\t\t\t\tif color == 'blue' and count > minBlue:\n",
    "\t\t\t\t\tminBlue = count\n",
    "\t\t\t\tif color == 'green' and count > minGreen:\n",
    "\t\t\t\t\tminGreen = count\t\n",
    "\t\tif minGreen <= 13 and minBlue <= 14 and minRed <= 12:\n",
    "\t\t\tsum += gameID\n",
    "\t\tpower = minRed * minGreen * minBlue\n",
    "\t\tpowerSum += power\n",
    "\n",
    "print(f'Part 1 = {sum}')\n",
    "print(f'Part 2 = {powerSum}')"
   ]
  },
  {
   "cell_type": "code",
   "execution_count": null,
   "metadata": {},
   "outputs": [],
   "source": []
  }
 ],
 "metadata": {
  "kernelspec": {
   "display_name": "pyspark",
   "language": "python",
   "name": "python3"
  },
  "language_info": {
   "codemirror_mode": {
    "name": "ipython",
    "version": 3
   },
   "file_extension": ".py",
   "mimetype": "text/x-python",
   "name": "python",
   "nbconvert_exporter": "python",
   "pygments_lexer": "ipython3",
   "version": "3.10.12"
  }
 },
 "nbformat": 4,
 "nbformat_minor": 2
}
