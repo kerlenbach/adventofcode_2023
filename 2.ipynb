{
 "cells": [
  {
   "cell_type": "code",
   "execution_count": 36,
   "metadata": {},
   "outputs": [],
   "source": [
    "\n",
    "from pyspark.sql.functions import sum, when, col, lit, min, max, count, countDistinct, isnan, greatest\n",
    "from pyspark.sql.functions import row_number, regexp_replace, regexp_extract, substring, concat, replace, split, explode, map_from_arrays, regexp_extract_all, coalesce\n",
    "from pyspark.sql.functions import dateadd, format_number\n",
    "from pyspark.sql.types import *\n",
    "from pyspark.sql.window import Window\n",
    "from pyspark.sql import SparkSession\n",
    "import pandas as pd"
   ]
  },
  {
   "cell_type": "code",
   "execution_count": 37,
   "metadata": {},
   "outputs": [],
   "source": [
    "spark = SparkSession \\\n",
    "    .builder \\\n",
    "    .appName(\"App Ad\").getOrCreate()\n",
    "#    .config(\"spark.some.config.option\", \"some-value\") \\\n",
    "\n",
    "spark.conf.set(\"spark.sql.repl.eagerEval.enabled\", True)"
   ]
  },
  {
   "cell_type": "code",
   "execution_count": 38,
   "metadata": {},
   "outputs": [],
   "source": [
    "file = \"2.csv\"\n",
    "\n",
    "df = spark.read.format(\"csv\") \\\n",
    "       .option(\"sep\", \";\")\\\n",
    "       .option(\"header\", \"false\") \\\n",
    "       .option(\"inferSchema\", \"true\") \\\n",
    "       .load(file) \n",
    "\n",
    "column_names = []\n",
    "for i in range(5):\n",
    "    column_names.append(\"set\" + str(i))\n",
    "# column_names = [\"set1\", \"set2\", \"set3\", \"set4\", \"set5\"]\n",
    "df = df.toDF(*column_names)"
   ]
  },
  {
   "cell_type": "code",
   "execution_count": 39,
   "metadata": {},
   "outputs": [
    {
     "name": "stdout",
     "output_type": "stream",
     "text": [
      "100\n",
      "5\n"
     ]
    }
   ],
   "source": [
    "print(df.count())\n",
    "print(len(df.columns))\n"
   ]
  },
  {
   "cell_type": "code",
   "execution_count": 40,
   "metadata": {},
   "outputs": [
    {
     "name": "stdout",
     "output_type": "stream",
     "text": [
      "+----------------------------------+-------------------------+-------------------------+-------------------------+--------------------------+\n",
      "|set0                              |set1                     |set2                     |set3                     |set4                      |\n",
      "+----------------------------------+-------------------------+-------------------------+-------------------------+--------------------------+\n",
      "|Game 1: 7 red, 8 blue             | 6 blue, 6 red, 2 green  | 2 red, 6 green, 8 blue  | 9 green, 2 red, 4 blue  | 6 blue, 4 green          |\n",
      "|Game 2: 2 green, 8 blue, 9 red    | 5 blue, 11 red          | 5 blue, 3 green, 4 red  | 7 blue, 8 red           | 5 red, 3 green, 3 blue   |\n",
      "|Game 3: 4 red, 8 green, 2 blue    | 6 green, 2 red, 2 blue  | 12 red, 12 green, 2 blue| 10 green, 6 red         |NULL                      |\n",
      "|Game 4: 12 red, 3 green           | 1 green, 2 blue, 2 red  | 16 red, 4 green         | 14 red, 3 green         | 2 blue, 5 red            |\n",
      "|Game 5: 19 red, 1 green           | 7 red, 1 green, 1 blue  | 7 red                   | 13 red, 2 green         |NULL                      |\n",
      "|Game 6: 8 green, 2 blue, 2 red    | 1 red, 7 green          | 6 green, 8 blue, 3 red  | 14 green, 2 red, 9 blue | 13 green                 |\n",
      "|Game 7: 2 red, 7 green            | 9 red, 5 blue, 18 green | 16 blue, 10 green, 6 red| 13 blue, 12 green, 6 red| 19 blue, 12 red, 11 green|\n",
      "|Game 8: 5 blue, 3 red, 1 green    | 8 red, 1 blue, 3 green  | 8 green, 9 blue, 8 red  | 5 blue, 11 green, 3 red | 2 red, 3 blue, 1 green   |\n",
      "|Game 9: 3 red, 3 blue             | 7 green, 9 blue, 14 red | 12 blue, 9 green, 3 red |NULL                     |NULL                      |\n",
      "|Game 10: 6 blue, 1 green, 1 red   | 17 red, 8 blue, 1 green | 4 blue, 10 red          |NULL                     |NULL                      |\n",
      "|Game 11: 2 green, 1 blue, 8 red   | 14 red, 5 blue, 10 green| 14 blue, 6 red, 9 green | 7 red, 1 blue, 1 green  |NULL                      |\n",
      "|Game 12: 16 green, 1 blue         | 1 green, 4 blue         | 1 red, 2 blue, 16 green | 17 green, 3 blue        | 14 green, 4 blue, 3 red  |\n",
      "|Game 13: 13 red, 10 blue, 19 green| 2 blue, 12 red, 8 green | 8 blue, 11 red, 13 green|NULL                     |NULL                      |\n",
      "|Game 14: 16 red, 7 blue, 7 green  | 8 green, 10 red, 6 blue | 6 blue, 11 red, 4 green |NULL                     |NULL                      |\n",
      "|Game 15: 6 red, 10 blue, 2 green  | 10 red, 1 blue, 1 green | 5 blue, 3 red, 2 green  | 16 blue, 10 red, 2 green| 13 blue                  |\n",
      "|Game 16: 8 green, 10 red, 1 blue  | 6 red, 9 green, 12 blue | 7 blue, 3 green, 1 red  | 5 red, 6 blue, 3 green  | 1 blue, 6 green, 8 red   |\n",
      "|Game 17: 4 green, 4 blue          | 2 green, 2 red          | 1 red, 8 green, 7 blue  |NULL                     |NULL                      |\n",
      "|Game 18: 6 blue, 8 green, 9 red   | 4 green, 3 blue, 8 red  | 8 blue, 12 red, 2 green | 4 blue, 8 red, 2 green  |NULL                      |\n",
      "|Game 19: 12 blue, 3 green         | 2 blue, 2 green, 4 red  | 3 green, 6 red, 14 blue | 3 green, 1 red, 17 blue | 10 green, 10 red, 1 blue |\n",
      "|Game 20: 4 green, 3 blue, 1 red   | 9 red, 14 blue, 9 green | 1 blue, 17 red, 2 green | 8 red, 13 blue, 8 green | 7 red, 2 green, 20 blue  |\n",
      "+----------------------------------+-------------------------+-------------------------+-------------------------+--------------------------+\n",
      "only showing top 20 rows\n",
      "\n"
     ]
    }
   ],
   "source": [
    "df.show(truncate=False)"
   ]
  },
  {
   "cell_type": "code",
   "execution_count": 41,
   "metadata": {},
   "outputs": [
    {
     "name": "stdout",
     "output_type": "stream",
     "text": [
      "+--------------------------+-------------------------+-------------------------+-------------------------+--------------------------+-------+\n",
      "|set0                      |set1                     |set2                     |set3                     |set4                      |game_no|\n",
      "+--------------------------+-------------------------+-------------------------+-------------------------+--------------------------+-------+\n",
      "| 7 red, 8 blue            | 6 blue, 6 red, 2 green  | 2 red, 6 green, 8 blue  | 9 green, 2 red, 4 blue  | 6 blue, 4 green          |1.0    |\n",
      "| 2 green, 8 blue, 9 red   | 5 blue, 11 red          | 5 blue, 3 green, 4 red  | 7 blue, 8 red           | 5 red, 3 green, 3 blue   |2.0    |\n",
      "| 4 red, 8 green, 2 blue   | 6 green, 2 red, 2 blue  | 12 red, 12 green, 2 blue| 10 green, 6 red         |NULL                      |3.0    |\n",
      "| 12 red, 3 green          | 1 green, 2 blue, 2 red  | 16 red, 4 green         | 14 red, 3 green         | 2 blue, 5 red            |4.0    |\n",
      "| 19 red, 1 green          | 7 red, 1 green, 1 blue  | 7 red                   | 13 red, 2 green         |NULL                      |5.0    |\n",
      "| 8 green, 2 blue, 2 red   | 1 red, 7 green          | 6 green, 8 blue, 3 red  | 14 green, 2 red, 9 blue | 13 green                 |6.0    |\n",
      "| 2 red, 7 green           | 9 red, 5 blue, 18 green | 16 blue, 10 green, 6 red| 13 blue, 12 green, 6 red| 19 blue, 12 red, 11 green|7.0    |\n",
      "| 5 blue, 3 red, 1 green   | 8 red, 1 blue, 3 green  | 8 green, 9 blue, 8 red  | 5 blue, 11 green, 3 red | 2 red, 3 blue, 1 green   |8.0    |\n",
      "| 3 red, 3 blue            | 7 green, 9 blue, 14 red | 12 blue, 9 green, 3 red |NULL                     |NULL                      |9.0    |\n",
      "| 6 blue, 1 green, 1 red   | 17 red, 8 blue, 1 green | 4 blue, 10 red          |NULL                     |NULL                      |10.0   |\n",
      "| 2 green, 1 blue, 8 red   | 14 red, 5 blue, 10 green| 14 blue, 6 red, 9 green | 7 red, 1 blue, 1 green  |NULL                      |11.0   |\n",
      "| 16 green, 1 blue         | 1 green, 4 blue         | 1 red, 2 blue, 16 green | 17 green, 3 blue        | 14 green, 4 blue, 3 red  |12.0   |\n",
      "| 13 red, 10 blue, 19 green| 2 blue, 12 red, 8 green | 8 blue, 11 red, 13 green|NULL                     |NULL                      |13.0   |\n",
      "| 16 red, 7 blue, 7 green  | 8 green, 10 red, 6 blue | 6 blue, 11 red, 4 green |NULL                     |NULL                      |14.0   |\n",
      "| 6 red, 10 blue, 2 green  | 10 red, 1 blue, 1 green | 5 blue, 3 red, 2 green  | 16 blue, 10 red, 2 green| 13 blue                  |15.0   |\n",
      "| 8 green, 10 red, 1 blue  | 6 red, 9 green, 12 blue | 7 blue, 3 green, 1 red  | 5 red, 6 blue, 3 green  | 1 blue, 6 green, 8 red   |16.0   |\n",
      "| 4 green, 4 blue          | 2 green, 2 red          | 1 red, 8 green, 7 blue  |NULL                     |NULL                      |17.0   |\n",
      "| 6 blue, 8 green, 9 red   | 4 green, 3 blue, 8 red  | 8 blue, 12 red, 2 green | 4 blue, 8 red, 2 green  |NULL                      |18.0   |\n",
      "| 12 blue, 3 green         | 2 blue, 2 green, 4 red  | 3 green, 6 red, 14 blue | 3 green, 1 red, 17 blue | 10 green, 10 red, 1 blue |19.0   |\n",
      "| 4 green, 3 blue, 1 red   | 9 red, 14 blue, 9 green | 1 blue, 17 red, 2 green | 8 red, 13 blue, 8 green | 7 red, 2 green, 20 blue  |20.0   |\n",
      "+--------------------------+-------------------------+-------------------------+-------------------------+--------------------------+-------+\n",
      "only showing top 20 rows\n",
      "\n"
     ]
    }
   ],
   "source": [
    "df = df.withColumn(\"game_no\", split(df[\"set0\"], \":\")[0])\n",
    "df = df.withColumn(\"set0\", split(df[\"set0\"], \":\")[1])\n",
    "df = df.withColumn('game_no',regexp_replace('game_no','Game ',\"\").cast(DoubleType()))\n",
    "\n",
    "df.show(truncate=False)"
   ]
  },
  {
   "cell_type": "code",
   "execution_count": 42,
   "metadata": {},
   "outputs": [
    {
     "name": "stdout",
     "output_type": "stream",
     "text": [
      "+--------------------------+-------------------------+-------------------------+-------------------------+--------------------------+-------+------------------------------------+-----------------------------------+-----------------------------------+-----------------------------------+------------------------------------+\n",
      "|set0                      |set1                     |set2                     |set3                     |set4                      |game_no|set0_map                            |set1_map                           |set2_map                           |set3_map                           |set4_map                            |\n",
      "+--------------------------+-------------------------+-------------------------+-------------------------+--------------------------+-------+------------------------------------+-----------------------------------+-----------------------------------+-----------------------------------+------------------------------------+\n",
      "| 7 red, 8 blue            | 6 blue, 6 red, 2 green  | 2 red, 6 green, 8 blue  | 9 green, 2 red, 4 blue  | 6 blue, 4 green          |1.0    |{red -> 7, blue -> 8}               |{blue -> 6, red -> 6, green -> 2}  |{red -> 2, green -> 6, blue -> 8}  |{green -> 9, red -> 2, blue -> 4}  |{blue -> 6, green -> 4}             |\n",
      "| 2 green, 8 blue, 9 red   | 5 blue, 11 red          | 5 blue, 3 green, 4 red  | 7 blue, 8 red           | 5 red, 3 green, 3 blue   |2.0    |{green -> 2, blue -> 8, red -> 9}   |{blue -> 5, red -> 11}             |{blue -> 5, green -> 3, red -> 4}  |{blue -> 7, red -> 8}              |{red -> 5, green -> 3, blue -> 3}   |\n",
      "| 4 red, 8 green, 2 blue   | 6 green, 2 red, 2 blue  | 12 red, 12 green, 2 blue| 10 green, 6 red         |NULL                      |3.0    |{red -> 4, green -> 8, blue -> 2}   |{green -> 6, red -> 2, blue -> 2}  |{red -> 12, green -> 12, blue -> 2}|{green -> 10, red -> 6}            |NULL                                |\n",
      "| 12 red, 3 green          | 1 green, 2 blue, 2 red  | 16 red, 4 green         | 14 red, 3 green         | 2 blue, 5 red            |4.0    |{red -> 12, green -> 3}             |{green -> 1, blue -> 2, red -> 2}  |{red -> 16, green -> 4}            |{red -> 14, green -> 3}            |{blue -> 2, red -> 5}               |\n",
      "| 19 red, 1 green          | 7 red, 1 green, 1 blue  | 7 red                   | 13 red, 2 green         |NULL                      |5.0    |{red -> 19, green -> 1}             |{red -> 7, green -> 1, blue -> 1}  |{red -> 7}                         |{red -> 13, green -> 2}            |NULL                                |\n",
      "| 8 green, 2 blue, 2 red   | 1 red, 7 green          | 6 green, 8 blue, 3 red  | 14 green, 2 red, 9 blue | 13 green                 |6.0    |{green -> 8, blue -> 2, red -> 2}   |{red -> 1, green -> 7}             |{green -> 6, blue -> 8, red -> 3}  |{green -> 14, red -> 2, blue -> 9} |{green -> 13}                       |\n",
      "| 2 red, 7 green           | 9 red, 5 blue, 18 green | 16 blue, 10 green, 6 red| 13 blue, 12 green, 6 red| 19 blue, 12 red, 11 green|7.0    |{red -> 2, green -> 7}              |{red -> 9, blue -> 5, green -> 18} |{blue -> 16, green -> 10, red -> 6}|{blue -> 13, green -> 12, red -> 6}|{blue -> 19, red -> 12, green -> 11}|\n",
      "| 5 blue, 3 red, 1 green   | 8 red, 1 blue, 3 green  | 8 green, 9 blue, 8 red  | 5 blue, 11 green, 3 red | 2 red, 3 blue, 1 green   |8.0    |{blue -> 5, red -> 3, green -> 1}   |{red -> 8, blue -> 1, green -> 3}  |{green -> 8, blue -> 9, red -> 8}  |{blue -> 5, green -> 11, red -> 3} |{red -> 2, blue -> 3, green -> 1}   |\n",
      "| 3 red, 3 blue            | 7 green, 9 blue, 14 red | 12 blue, 9 green, 3 red |NULL                     |NULL                      |9.0    |{red -> 3, blue -> 3}               |{green -> 7, blue -> 9, red -> 14} |{blue -> 12, green -> 9, red -> 3} |NULL                               |NULL                                |\n",
      "| 6 blue, 1 green, 1 red   | 17 red, 8 blue, 1 green | 4 blue, 10 red          |NULL                     |NULL                      |10.0   |{blue -> 6, green -> 1, red -> 1}   |{red -> 17, blue -> 8, green -> 1} |{blue -> 4, red -> 10}             |NULL                               |NULL                                |\n",
      "| 2 green, 1 blue, 8 red   | 14 red, 5 blue, 10 green| 14 blue, 6 red, 9 green | 7 red, 1 blue, 1 green  |NULL                      |11.0   |{green -> 2, blue -> 1, red -> 8}   |{red -> 14, blue -> 5, green -> 10}|{blue -> 14, red -> 6, green -> 9} |{red -> 7, blue -> 1, green -> 1}  |NULL                                |\n",
      "| 16 green, 1 blue         | 1 green, 4 blue         | 1 red, 2 blue, 16 green | 17 green, 3 blue        | 14 green, 4 blue, 3 red  |12.0   |{green -> 16, blue -> 1}            |{green -> 1, blue -> 4}            |{red -> 1, blue -> 2, green -> 16} |{green -> 17, blue -> 3}           |{green -> 14, blue -> 4, red -> 3}  |\n",
      "| 13 red, 10 blue, 19 green| 2 blue, 12 red, 8 green | 8 blue, 11 red, 13 green|NULL                     |NULL                      |13.0   |{red -> 13, blue -> 10, green -> 19}|{blue -> 2, red -> 12, green -> 8} |{blue -> 8, red -> 11, green -> 13}|NULL                               |NULL                                |\n",
      "| 16 red, 7 blue, 7 green  | 8 green, 10 red, 6 blue | 6 blue, 11 red, 4 green |NULL                     |NULL                      |14.0   |{red -> 16, blue -> 7, green -> 7}  |{green -> 8, red -> 10, blue -> 6} |{blue -> 6, red -> 11, green -> 4} |NULL                               |NULL                                |\n",
      "| 6 red, 10 blue, 2 green  | 10 red, 1 blue, 1 green | 5 blue, 3 red, 2 green  | 16 blue, 10 red, 2 green| 13 blue                  |15.0   |{red -> 6, blue -> 10, green -> 2}  |{red -> 10, blue -> 1, green -> 1} |{blue -> 5, red -> 3, green -> 2}  |{blue -> 16, red -> 10, green -> 2}|{blue -> 13}                        |\n",
      "| 8 green, 10 red, 1 blue  | 6 red, 9 green, 12 blue | 7 blue, 3 green, 1 red  | 5 red, 6 blue, 3 green  | 1 blue, 6 green, 8 red   |16.0   |{green -> 8, red -> 10, blue -> 1}  |{red -> 6, green -> 9, blue -> 12} |{blue -> 7, green -> 3, red -> 1}  |{red -> 5, blue -> 6, green -> 3}  |{blue -> 1, green -> 6, red -> 8}   |\n",
      "| 4 green, 4 blue          | 2 green, 2 red          | 1 red, 8 green, 7 blue  |NULL                     |NULL                      |17.0   |{green -> 4, blue -> 4}             |{green -> 2, red -> 2}             |{red -> 1, green -> 8, blue -> 7}  |NULL                               |NULL                                |\n",
      "| 6 blue, 8 green, 9 red   | 4 green, 3 blue, 8 red  | 8 blue, 12 red, 2 green | 4 blue, 8 red, 2 green  |NULL                      |18.0   |{blue -> 6, green -> 8, red -> 9}   |{green -> 4, blue -> 3, red -> 8}  |{blue -> 8, red -> 12, green -> 2} |{blue -> 4, red -> 8, green -> 2}  |NULL                                |\n",
      "| 12 blue, 3 green         | 2 blue, 2 green, 4 red  | 3 green, 6 red, 14 blue | 3 green, 1 red, 17 blue | 10 green, 10 red, 1 blue |19.0   |{blue -> 12, green -> 3}            |{blue -> 2, green -> 2, red -> 4}  |{green -> 3, red -> 6, blue -> 14} |{green -> 3, red -> 1, blue -> 17} |{green -> 10, red -> 10, blue -> 1} |\n",
      "| 4 green, 3 blue, 1 red   | 9 red, 14 blue, 9 green | 1 blue, 17 red, 2 green | 8 red, 13 blue, 8 green | 7 red, 2 green, 20 blue  |20.0   |{green -> 4, blue -> 3, red -> 1}   |{red -> 9, blue -> 14, green -> 9} |{blue -> 1, red -> 17, green -> 2} |{red -> 8, blue -> 13, green -> 8} |{red -> 7, green -> 2, blue -> 20}  |\n",
      "+--------------------------+-------------------------+-------------------------+-------------------------+--------------------------+-------+------------------------------------+-----------------------------------+-----------------------------------+-----------------------------------+------------------------------------+\n",
      "only showing top 20 rows\n",
      "\n"
     ]
    },
    {
     "ename": "",
     "evalue": "",
     "output_type": "error",
     "traceback": [
      "\u001b[1;31mThe Kernel crashed while executing code in the current cell or a previous cell. \n",
      "\u001b[1;31mPlease review the code in the cell(s) to identify a possible cause of the failure. \n",
      "\u001b[1;31mClick <a href='https://aka.ms/vscodeJupyterKernelCrash'>here</a> for more info. \n",
      "\u001b[1;31mView Jupyter <a href='command:jupyter.viewOutput'>log</a> for further details."
     ]
    }
   ],
   "source": [
    "\n",
    "df = df.withColumn(\"set0_map\", map_from_arrays(regexp_extract_all(\"set0\", lit(r\"(\\d+)\\s(\\w+)\"), 2), regexp_extract_all(\"set0\", lit(r\"(\\d+)\\s(\\w+)\"), 1)))\n",
    "df = df.withColumn(\"set1_map\", map_from_arrays(regexp_extract_all(\"set1\", lit(r\"(\\d+)\\s(\\w+)\"), 2), regexp_extract_all(\"set1\", lit(r\"(\\d+)\\s(\\w+)\"), 1)))\n",
    "df = df.withColumn(\"set2_map\", map_from_arrays(regexp_extract_all(\"set2\", lit(r\"(\\d+)\\s(\\w+)\"), 2), regexp_extract_all(\"set2\", lit(r\"(\\d+)\\s(\\w+)\"), 1)))\n",
    "df = df.withColumn(\"set3_map\", map_from_arrays(regexp_extract_all(\"set3\", lit(r\"(\\d+)\\s(\\w+)\"), 2), regexp_extract_all(\"set3\", lit(r\"(\\d+)\\s(\\w+)\"), 1)))\n",
    "df = df.withColumn(\"set4_map\", map_from_arrays(regexp_extract_all(\"set4\", lit(r\"(\\d+)\\s(\\w+)\"), 2), regexp_extract_all(\"set4\", lit(r\"(\\d+)\\s(\\w+)\"), 1)))\n",
    "\n",
    "df.show(truncate=False)"
   ]
  },
  {
   "cell_type": "code",
   "execution_count": null,
   "metadata": {},
   "outputs": [],
   "source": [
    "df = df.withColumn('set0_pass', when(col('set0_map')['red'] ))"
   ]
  },
  {
   "cell_type": "code",
   "execution_count": 28,
   "metadata": {},
   "outputs": [
    {
     "name": "stdout",
     "output_type": "stream",
     "text": [
      "+--------------------+--------------------+--------------------+--------------------+--------------------+-------+--------------------+--------------------+--------------------+--------------------+--------------------+----+-------+--------+---------+------+\n",
      "|                set0|                set1|                set2|                set3|                set4|game_no|            set0_map|            set1_map|            set2_map|            set3_map|            set4_map|test|red_max|blue_max|green_max| power|\n",
      "+--------------------+--------------------+--------------------+--------------------+--------------------+-------+--------------------+--------------------+--------------------+--------------------+--------------------+----+-------+--------+---------+------+\n",
      "|       7 red, 8 blue| 6 blue, 6 red, 2...| 2 red, 6 green, ...| 9 green, 2 red, ...|     6 blue, 4 green|    1.0|{red -> 7, blue -...|{blue -> 6, red -...|{red -> 2, green ...|{green -> 9, red ...|{blue -> 6, green...|   7|    7.0|     8.0|      9.0| 504.0|\n",
      "| 2 green, 8 blue,...|      5 blue, 11 red| 5 blue, 3 green,...|       7 blue, 8 red| 5 red, 3 green, ...|    2.0|{green -> 2, blue...|{blue -> 5, red -...|{blue -> 5, green...|{blue -> 7, red -...|{red -> 5, green ...|   9|   11.0|     8.0|      3.0| 264.0|\n",
      "| 4 red, 8 green, ...| 6 green, 2 red, ...| 12 red, 12 green...|     10 green, 6 red|                NULL|    3.0|{red -> 4, green ...|{green -> 6, red ...|{red -> 12, green...|{green -> 10, red...|                NULL|   4|   12.0|     2.0|     12.0| 288.0|\n",
      "|     12 red, 3 green| 1 green, 2 blue,...|     16 red, 4 green|     14 red, 3 green|       2 blue, 5 red|    4.0|{red -> 12, green...|{green -> 1, blue...|{red -> 16, green...|{red -> 14, green...|{blue -> 2, red -...|  12|   16.0|     2.0|      4.0| 128.0|\n",
      "|     19 red, 1 green| 7 red, 1 green, ...|               7 red|     13 red, 2 green|                NULL|    5.0|{red -> 19, green...|{red -> 7, green ...|          {red -> 7}|{red -> 13, green...|                NULL|  19|   19.0|     1.0|      2.0|  38.0|\n",
      "| 8 green, 2 blue,...|      1 red, 7 green| 6 green, 8 blue,...| 14 green, 2 red,...|            13 green|    6.0|{green -> 8, blue...|{red -> 1, green ...|{green -> 6, blue...|{green -> 14, red...|       {green -> 13}|   2|    3.0|     9.0|     14.0| 378.0|\n",
      "|      2 red, 7 green| 9 red, 5 blue, 1...| 16 blue, 10 gree...| 13 blue, 12 gree...| 19 blue, 12 red,...|    7.0|{red -> 2, green ...|{red -> 9, blue -...|{blue -> 16, gree...|{blue -> 13, gree...|{blue -> 19, red ...|   2|   12.0|    19.0|     18.0|4104.0|\n",
      "| 5 blue, 3 red, 1...| 8 red, 1 blue, 3...| 8 green, 9 blue,...| 5 blue, 11 green...| 2 red, 3 blue, 1...|    8.0|{blue -> 5, red -...|{red -> 8, blue -...|{green -> 8, blue...|{blue -> 5, green...|{red -> 2, blue -...|   3|    8.0|     9.0|     11.0| 792.0|\n",
      "|       3 red, 3 blue| 7 green, 9 blue,...| 12 blue, 9 green...|                NULL|                NULL|    9.0|{red -> 3, blue -...|{green -> 7, blue...|{blue -> 12, gree...|                NULL|                NULL|   3|   14.0|    12.0|      9.0|1512.0|\n",
      "| 6 blue, 1 green,...| 17 red, 8 blue, ...|      4 blue, 10 red|                NULL|                NULL|   10.0|{blue -> 6, green...|{red -> 17, blue ...|{blue -> 4, red -...|                NULL|                NULL|   1|   17.0|     8.0|      1.0| 136.0|\n",
      "| 2 green, 1 blue,...| 14 red, 5 blue, ...| 14 blue, 6 red, ...| 7 red, 1 blue, 1...|                NULL|   11.0|{green -> 2, blue...|{red -> 14, blue ...|{blue -> 14, red ...|{red -> 7, blue -...|                NULL|   8|   14.0|    14.0|     10.0|1960.0|\n",
      "|    16 green, 1 blue|     1 green, 4 blue| 1 red, 2 blue, 1...|    17 green, 3 blue| 14 green, 4 blue...|   12.0|{green -> 16, blu...|{green -> 1, blue...|{red -> 1, blue -...|{green -> 17, blu...|{green -> 14, blu...|NULL|    3.0|     4.0|     17.0| 204.0|\n",
      "| 13 red, 10 blue,...| 2 blue, 12 red, ...| 8 blue, 11 red, ...|                NULL|                NULL|   13.0|{red -> 13, blue ...|{blue -> 2, red -...|{blue -> 8, red -...|                NULL|                NULL|  13|   13.0|    10.0|     19.0|2470.0|\n",
      "| 16 red, 7 blue, ...| 8 green, 10 red,...| 6 blue, 11 red, ...|                NULL|                NULL|   14.0|{red -> 16, blue ...|{green -> 8, red ...|{blue -> 6, red -...|                NULL|                NULL|  16|   16.0|     7.0|      8.0| 896.0|\n",
      "| 6 red, 10 blue, ...| 10 red, 1 blue, ...| 5 blue, 3 red, 2...| 16 blue, 10 red,...|             13 blue|   15.0|{red -> 6, blue -...|{red -> 10, blue ...|{blue -> 5, red -...|{blue -> 16, red ...|        {blue -> 13}|   6|   10.0|    16.0|      2.0| 320.0|\n",
      "| 8 green, 10 red,...| 6 red, 9 green, ...| 7 blue, 3 green,...| 5 red, 6 blue, 3...| 1 blue, 6 green,...|   16.0|{green -> 8, red ...|{red -> 6, green ...|{blue -> 7, green...|{red -> 5, blue -...|{blue -> 1, green...|  10|   10.0|    12.0|      9.0|1080.0|\n",
      "|     4 green, 4 blue|      2 green, 2 red| 1 red, 8 green, ...|                NULL|                NULL|   17.0|{green -> 4, blue...|{green -> 2, red ...|{red -> 1, green ...|                NULL|                NULL|NULL|    2.0|     7.0|      8.0| 112.0|\n",
      "| 6 blue, 8 green,...| 4 green, 3 blue,...| 8 blue, 12 red, ...| 4 blue, 8 red, 2...|                NULL|   18.0|{blue -> 6, green...|{green -> 4, blue...|{blue -> 8, red -...|{blue -> 4, red -...|                NULL|   9|   12.0|     8.0|      8.0| 768.0|\n",
      "|    12 blue, 3 green| 2 blue, 2 green,...| 3 green, 6 red, ...| 3 green, 1 red, ...| 10 green, 10 red...|   19.0|{blue -> 12, gree...|{blue -> 2, green...|{green -> 3, red ...|{green -> 3, red ...|{green -> 10, red...|NULL|   10.0|    17.0|     10.0|1700.0|\n",
      "| 4 green, 3 blue,...| 9 red, 14 blue, ...| 1 blue, 17 red, ...| 8 red, 13 blue, ...| 7 red, 2 green, ...|   20.0|{green -> 4, blue...|{red -> 9, blue -...|{blue -> 1, red -...|{red -> 8, blue -...|{red -> 7, green ...|   1|   17.0|    20.0|      9.0|3060.0|\n",
      "+--------------------+--------------------+--------------------+--------------------+--------------------+-------+--------------------+--------------------+--------------------+--------------------+--------------------+----+-------+--------+---------+------+\n",
      "only showing top 20 rows\n",
      "\n"
     ]
    }
   ],
   "source": [
    "df.show()"
   ]
  },
  {
   "cell_type": "code",
   "execution_count": 30,
   "metadata": {},
   "outputs": [
    {
     "name": "stdout",
     "output_type": "stream",
     "text": [
      "+----------+\n",
      "|sum(power)|\n",
      "+----------+\n",
      "|   75534.0|\n",
      "+----------+\n",
      "\n"
     ]
    }
   ],
   "source": [
    "print(df.agg(sum('power')))"
   ]
  },
  {
   "cell_type": "code",
   "execution_count": 44,
   "metadata": {},
   "outputs": [],
   "source": [
    "# Explode the map column\n",
    "\n",
    "# schema = StructType([\n",
    "#     StructField(\"game_no\", DoubleType(), True), \n",
    "#     StructField(\"blue\", DoubleType(), True), \n",
    "#     StructField(\"green\", DoubleType(), True), \n",
    "#     StructField(\"red\", DoubleType(), True), \n",
    "#     StructField(\"set\", DoubleType(), True)\n",
    "# ])\n",
    "# df_sets = spark.createDataFrame([], schema = schema)\n",
    "# schema = StructType([\n",
    "#     StructField(\"game_no\", DoubleType(), True), \n",
    "#     StructField(\"key\", StringType(), True), \n",
    "#     StructField(\"value\", DoubleType(), True)\n",
    "# ])\n",
    "# df_sets_exploded = spark.createDataFrame([], schema = schema)\n",
    "\n",
    "# for i in column_names:\n",
    "#      df_set_exploded = df.select(\"game_no\", explode(str(i)+\"_map\").alias(\"key\", \"value\"))\n",
    "#      df_set_sum = df_set_exploded.groupBy('game_no').pivot('key').agg(max(\"value\").cast(DoubleType()).alias(\"total\")).orderBy('game_no')\n",
    "#      df_set_sum = df_set_sum.withColumn('set', lit(i))\n",
    "#      df_sets = df_sets.union(df_set_sum)\n",
    "#      df_sets_exploded = df_sets_exploded.union(df_set_exploded)\n",
    "\n",
    "\n",
    "# df_sets = df_sets.select('*').orderBy('game_no','set')\n",
    "# df_sets_exploded = df_sets_exploded.withColumn('value',col('value').cast(DoubleType()))\n",
    "# df_sets_exploded = df_sets_exploded.select('*').orderBy('game_no')\n",
    "\n",
    "# df_sets = df_sets.fillna(0)\n"
   ]
  },
  {
   "cell_type": "code",
   "execution_count": 66,
   "metadata": {},
   "outputs": [
    {
     "name": "stdout",
     "output_type": "stream",
     "text": [
      "+-------+-----+-----+\n",
      "|game_no|  key|value|\n",
      "+-------+-----+-----+\n",
      "|    1.0|  red|  7.0|\n",
      "|    1.0|  red|  2.0|\n",
      "|    1.0| blue|  6.0|\n",
      "|    1.0|green|  6.0|\n",
      "|    1.0| blue|  6.0|\n",
      "|    1.0| blue|  8.0|\n",
      "|    1.0|green|  4.0|\n",
      "|    1.0|green|  9.0|\n",
      "|    1.0|  red|  6.0|\n",
      "|    1.0| blue|  8.0|\n",
      "|    1.0|green|  2.0|\n",
      "|    1.0|  red|  2.0|\n",
      "|    1.0| blue|  4.0|\n",
      "|    2.0| blue|  5.0|\n",
      "|    2.0|  red|  5.0|\n",
      "|    2.0|green|  3.0|\n",
      "|    2.0| blue|  5.0|\n",
      "|    2.0|  red|  4.0|\n",
      "|    2.0|green|  3.0|\n",
      "|    2.0|green|  2.0|\n",
      "+-------+-----+-----+\n",
      "only showing top 20 rows\n",
      "\n"
     ]
    }
   ],
   "source": [
    "df_sets_exploded.show()"
   ]
  },
  {
   "cell_type": "code",
   "execution_count": 45,
   "metadata": {},
   "outputs": [
    {
     "name": "stdout",
     "output_type": "stream",
     "text": [
      "+-------+-----+-----+\n",
      "|game_no|  key|value|\n",
      "+-------+-----+-----+\n",
      "|   80.0|green| 10.0|\n",
      "|   52.0|green| 13.0|\n",
      "|   22.0|green| 10.0|\n",
      "|   11.0|green| 10.0|\n",
      "|   70.0|green| 12.0|\n",
      "|   79.0| blue|  4.0|\n",
      "|   48.0|  red|  7.0|\n",
      "|   55.0| blue|  2.0|\n",
      "|   76.0| blue|  9.0|\n",
      "|   64.0| blue| 15.0|\n",
      "|   12.0|green| 17.0|\n",
      "|   32.0| blue|  3.0|\n",
      "|   65.0| blue|  3.0|\n",
      "|   73.0|  red|  8.0|\n",
      "|   23.0|green|  6.0|\n",
      "|   34.0|green| 17.0|\n",
      "|   36.0| blue| 13.0|\n",
      "|   54.0|green|  3.0|\n",
      "|   60.0| blue|  2.0|\n",
      "|    3.0|green| 12.0|\n",
      "|   34.0|  red|  4.0|\n",
      "|   62.0|green| 11.0|\n",
      "|   25.0|  red|  3.0|\n",
      "|   43.0|  red|  9.0|\n",
      "|   63.0|  red| 14.0|\n",
      "|   16.0|green|  9.0|\n",
      "|   79.0|green|  8.0|\n",
      "|   27.0|green|  5.0|\n",
      "|   51.0|  red|  7.0|\n",
      "|   97.0| blue|  5.0|\n",
      "|    3.0| blue|  2.0|\n",
      "|   11.0|  red| 14.0|\n",
      "|   83.0|green|  8.0|\n",
      "|   61.0|green| 18.0|\n",
      "|   78.0|green|  9.0|\n",
      "|   85.0|green| 11.0|\n",
      "|   14.0|green|  8.0|\n",
      "|    5.0|  red| 19.0|\n",
      "|   16.0| blue| 12.0|\n",
      "|   98.0|green|  2.0|\n",
      "|    5.0|green|  2.0|\n",
      "|   22.0| blue| 20.0|\n",
      "|   13.0|  red| 13.0|\n",
      "|   13.0| blue| 10.0|\n",
      "|   80.0| blue| 14.0|\n",
      "|   98.0|  red|  8.0|\n",
      "|   28.0|  red| 11.0|\n",
      "|   30.0|  red|  2.0|\n",
      "|   22.0|  red| 10.0|\n",
      "|   98.0| blue| 12.0|\n",
      "|   10.0| blue|  8.0|\n",
      "|   74.0|  red| 17.0|\n",
      "|   19.0| blue| 17.0|\n",
      "|   54.0| blue|  4.0|\n",
      "|   86.0|  red|  9.0|\n",
      "|   99.0|  red| 11.0|\n",
      "|    8.0|green| 11.0|\n",
      "|   56.0|green| 14.0|\n",
      "|   87.0| blue| 10.0|\n",
      "|   35.0|  red|  5.0|\n",
      "|   74.0| blue|  3.0|\n",
      "|   81.0|  red| 11.0|\n",
      "|   68.0|  red|  8.0|\n",
      "|   76.0|  red| 12.0|\n",
      "|   77.0| blue| 12.0|\n",
      "|   70.0| blue| 10.0|\n",
      "|   50.0| blue|  2.0|\n",
      "|    6.0|  red|  3.0|\n",
      "|   18.0|green|  8.0|\n",
      "|   61.0| blue| 19.0|\n",
      "|   46.0|  red| 10.0|\n",
      "|   96.0| blue| 18.0|\n",
      "|   10.0|  red| 17.0|\n",
      "|   49.0|  red| 14.0|\n",
      "|   94.0| blue|  1.0|\n",
      "|   52.0|  red|  7.0|\n",
      "|  100.0|  red| 12.0|\n",
      "|    2.0| blue|  8.0|\n",
      "|   47.0|  red|  3.0|\n",
      "|   99.0| blue|  7.0|\n",
      "|   55.0|green|  6.0|\n",
      "|   17.0|green|  8.0|\n",
      "|   56.0| blue| 14.0|\n",
      "|   96.0|green|  1.0|\n",
      "|   18.0|  red| 12.0|\n",
      "|   84.0| blue| 14.0|\n",
      "|   86.0| blue|  6.0|\n",
      "|   99.0|green| 19.0|\n",
      "|   40.0|  red| 20.0|\n",
      "|   54.0|  red| 16.0|\n",
      "|   51.0|green| 11.0|\n",
      "|   24.0|green|  7.0|\n",
      "|   48.0|green|  6.0|\n",
      "|    3.0|  red| 12.0|\n",
      "|   76.0|green|  8.0|\n",
      "|   71.0| blue|  7.0|\n",
      "|   81.0| blue|  6.0|\n",
      "|   72.0|green|  6.0|\n",
      "|   82.0|  red|  7.0|\n",
      "|   50.0|green|  4.0|\n",
      "+-------+-----+-----+\n",
      "only showing top 100 rows\n",
      "\n"
     ]
    }
   ],
   "source": [
    "df_sets_max = df_sets_exploded.groupBy(col('game_no'), col('key')).agg(max(col('value')).alias('value'))\n",
    "df_sets_max.show(n=100)"
   ]
  },
  {
   "cell_type": "code",
   "execution_count": 46,
   "metadata": {},
   "outputs": [
    {
     "name": "stdout",
     "output_type": "stream",
     "text": [
      "+-------+----+-----+----+\n",
      "|game_no|blue|green| red|\n",
      "+-------+----+-----+----+\n",
      "|   70.0|10.0| 12.0| 3.0|\n",
      "|    8.0| 9.0| 11.0| 8.0|\n",
      "|   67.0|15.0|  7.0|16.0|\n",
      "|   69.0| 9.0|  8.0| 9.0|\n",
      "|    7.0|19.0| 18.0|12.0|\n",
      "|   88.0| 4.0| 13.0| 4.0|\n",
      "|   49.0|11.0| 16.0|14.0|\n",
      "|   98.0|12.0|  2.0| 8.0|\n",
      "|   29.0|15.0| 19.0| 7.0|\n",
      "|   64.0|15.0|  4.0| 1.0|\n",
      "|   75.0|16.0| 20.0| 5.0|\n",
      "|   47.0| 5.0|  4.0| 3.0|\n",
      "|   42.0|16.0|  6.0|10.0|\n",
      "|   44.0|15.0|  5.0| 1.0|\n",
      "|   62.0| 2.0| 11.0| 5.0|\n",
      "|   35.0| 5.0|  8.0| 5.0|\n",
      "|   96.0|18.0|  1.0|12.0|\n",
      "|   18.0| 8.0|  8.0|12.0|\n",
      "|   80.0|14.0| 10.0|13.0|\n",
      "|   86.0| 6.0|  5.0| 9.0|\n",
      "|   39.0|17.0| 15.0| 6.0|\n",
      "|    1.0| 8.0|  9.0| 7.0|\n",
      "|   94.0| 1.0|  1.0|10.0|\n",
      "|   34.0| 3.0| 17.0| 4.0|\n",
      "|   37.0| 5.0| 12.0|10.0|\n",
      "|   25.0| 5.0|  5.0| 3.0|\n",
      "|   36.0|13.0|  9.0| 9.0|\n",
      "|   41.0| 3.0|  5.0| 9.0|\n",
      "|    4.0| 2.0|  4.0|16.0|\n",
      "|   85.0| 2.0| 11.0| 6.0|\n",
      "|   23.0|15.0|  6.0| 8.0|\n",
      "|   77.0|12.0| 12.0| 9.0|\n",
      "|   56.0|14.0| 14.0|14.0|\n",
      "|   50.0| 2.0|  4.0| 7.0|\n",
      "|   78.0|14.0|  9.0|16.0|\n",
      "|   79.0| 4.0|  8.0| 2.0|\n",
      "|   83.0| 2.0|  8.0|14.0|\n",
      "|   45.0| 5.0| 11.0| 1.0|\n",
      "|   71.0| 7.0|  5.0|14.0|\n",
      "|   93.0| 2.0|  3.0|10.0|\n",
      "|   31.0| 8.0|  7.0| 7.0|\n",
      "|   11.0|14.0| 10.0|14.0|\n",
      "|   58.0|12.0|  6.0| 9.0|\n",
      "|   51.0| 3.0| 11.0| 7.0|\n",
      "|   72.0| 1.0|  6.0|14.0|\n",
      "|   21.0| 1.0|  5.0| 7.0|\n",
      "|   14.0| 7.0|  8.0|16.0|\n",
      "|   63.0|14.0|  5.0|14.0|\n",
      "|   48.0|14.0|  6.0| 7.0|\n",
      "|   22.0|20.0| 10.0|10.0|\n",
      "|   82.0| 6.0| 13.0| 7.0|\n",
      "|   60.0| 2.0| 16.0|14.0|\n",
      "|   74.0| 3.0|  1.0|17.0|\n",
      "|   66.0|14.0|  2.0| 2.0|\n",
      "|   68.0|11.0|  1.0| 8.0|\n",
      "|    3.0| 2.0| 12.0|12.0|\n",
      "|   19.0|17.0| 10.0|10.0|\n",
      "|   53.0| 1.0|  7.0|16.0|\n",
      "|   61.0|19.0| 18.0| 9.0|\n",
      "|   81.0| 6.0| 14.0|11.0|\n",
      "|   59.0|11.0| 12.0| 6.0|\n",
      "|   46.0|10.0| 20.0|10.0|\n",
      "|   28.0|10.0|  3.0|11.0|\n",
      "|    2.0| 8.0|  3.0|11.0|\n",
      "|   57.0| 6.0| 11.0| 6.0|\n",
      "|   87.0|10.0|  5.0|14.0|\n",
      "|   17.0| 7.0|  8.0| 2.0|\n",
      "|   38.0| 2.0|  4.0| 3.0|\n",
      "|   27.0| 4.0|  5.0|10.0|\n",
      "|   10.0| 8.0|  1.0|17.0|\n",
      "|   73.0| 6.0|  4.0| 8.0|\n",
      "|   30.0|12.0|  5.0| 2.0|\n",
      "|   40.0|10.0| 14.0|20.0|\n",
      "|   13.0|10.0| 19.0|13.0|\n",
      "|   99.0| 7.0| 19.0|11.0|\n",
      "|   95.0|10.0|  2.0| 6.0|\n",
      "|  100.0|11.0|  1.0|12.0|\n",
      "|   84.0|14.0| 16.0|17.0|\n",
      "|   33.0|19.0|  2.0|14.0|\n",
      "|   92.0| 7.0| 12.0| 4.0|\n",
      "|    6.0| 9.0| 14.0| 3.0|\n",
      "|   20.0|20.0|  9.0|17.0|\n",
      "|   52.0| 2.0| 13.0| 7.0|\n",
      "|   32.0| 3.0|  7.0| 9.0|\n",
      "|   97.0| 5.0| 14.0| 7.0|\n",
      "|    5.0| 1.0|  2.0|19.0|\n",
      "|   24.0|11.0|  7.0| 4.0|\n",
      "|   15.0|16.0|  2.0|10.0|\n",
      "|   89.0| 1.0| 15.0| 8.0|\n",
      "|   55.0| 2.0|  6.0| 6.0|\n",
      "|    9.0|12.0|  9.0|14.0|\n",
      "|   26.0| 5.0| 11.0| 7.0|\n",
      "|   65.0| 3.0|  6.0|12.0|\n",
      "|   16.0|12.0|  9.0|10.0|\n",
      "|   12.0| 4.0| 17.0| 3.0|\n",
      "|   54.0| 4.0|  3.0|16.0|\n",
      "|   76.0| 9.0|  8.0|12.0|\n",
      "|   43.0| 8.0|  2.0| 9.0|\n",
      "|   90.0|15.0|  2.0| 9.0|\n",
      "|   91.0|20.0| 14.0|10.0|\n",
      "+-------+----+-----+----+\n",
      "\n"
     ]
    }
   ],
   "source": [
    "df_sets_max_pivot = df_sets_max.groupBy(col('game_no')).pivot('key').agg(sum('value'))\n",
    "df_sets_max_pivot.show(n=100)"
   ]
  },
  {
   "cell_type": "code",
   "execution_count": 48,
   "metadata": {},
   "outputs": [
    {
     "name": "stdout",
     "output_type": "stream",
     "text": [
      "+-------+----+-----+----+------+\n",
      "|game_no|blue|green| red| power|\n",
      "+-------+----+-----+----+------+\n",
      "|   70.0|10.0| 12.0| 3.0| 360.0|\n",
      "|    8.0| 9.0| 11.0| 8.0| 792.0|\n",
      "|   67.0|15.0|  7.0|16.0|1680.0|\n",
      "|   69.0| 9.0|  8.0| 9.0| 648.0|\n",
      "|    7.0|19.0| 18.0|12.0|4104.0|\n",
      "|   88.0| 4.0| 13.0| 4.0| 208.0|\n",
      "|   49.0|11.0| 16.0|14.0|2464.0|\n",
      "|   98.0|12.0|  2.0| 8.0| 192.0|\n",
      "|   29.0|15.0| 19.0| 7.0|1995.0|\n",
      "|   64.0|15.0|  4.0| 1.0|  60.0|\n",
      "|   75.0|16.0| 20.0| 5.0|1600.0|\n",
      "|   47.0| 5.0|  4.0| 3.0|  60.0|\n",
      "|   42.0|16.0|  6.0|10.0| 960.0|\n",
      "|   44.0|15.0|  5.0| 1.0|  75.0|\n",
      "|   62.0| 2.0| 11.0| 5.0| 110.0|\n",
      "|   35.0| 5.0|  8.0| 5.0| 200.0|\n",
      "|   96.0|18.0|  1.0|12.0| 216.0|\n",
      "|   18.0| 8.0|  8.0|12.0| 768.0|\n",
      "|   80.0|14.0| 10.0|13.0|1820.0|\n",
      "|   86.0| 6.0|  5.0| 9.0| 270.0|\n",
      "|   39.0|17.0| 15.0| 6.0|1530.0|\n",
      "|    1.0| 8.0|  9.0| 7.0| 504.0|\n",
      "|   94.0| 1.0|  1.0|10.0|  10.0|\n",
      "|   34.0| 3.0| 17.0| 4.0| 204.0|\n",
      "|   37.0| 5.0| 12.0|10.0| 600.0|\n",
      "|   25.0| 5.0|  5.0| 3.0|  75.0|\n",
      "|   36.0|13.0|  9.0| 9.0|1053.0|\n",
      "|   41.0| 3.0|  5.0| 9.0| 135.0|\n",
      "|    4.0| 2.0|  4.0|16.0| 128.0|\n",
      "|   85.0| 2.0| 11.0| 6.0| 132.0|\n",
      "|   23.0|15.0|  6.0| 8.0| 720.0|\n",
      "|   77.0|12.0| 12.0| 9.0|1296.0|\n",
      "|   56.0|14.0| 14.0|14.0|2744.0|\n",
      "|   50.0| 2.0|  4.0| 7.0|  56.0|\n",
      "|   78.0|14.0|  9.0|16.0|2016.0|\n",
      "|   79.0| 4.0|  8.0| 2.0|  64.0|\n",
      "|   83.0| 2.0|  8.0|14.0| 224.0|\n",
      "|   45.0| 5.0| 11.0| 1.0|  55.0|\n",
      "|   71.0| 7.0|  5.0|14.0| 490.0|\n",
      "|   93.0| 2.0|  3.0|10.0|  60.0|\n",
      "|   31.0| 8.0|  7.0| 7.0| 392.0|\n",
      "|   11.0|14.0| 10.0|14.0|1960.0|\n",
      "|   58.0|12.0|  6.0| 9.0| 648.0|\n",
      "|   51.0| 3.0| 11.0| 7.0| 231.0|\n",
      "|   72.0| 1.0|  6.0|14.0|  84.0|\n",
      "|   21.0| 1.0|  5.0| 7.0|  35.0|\n",
      "|   14.0| 7.0|  8.0|16.0| 896.0|\n",
      "|   63.0|14.0|  5.0|14.0| 980.0|\n",
      "|   48.0|14.0|  6.0| 7.0| 588.0|\n",
      "|   22.0|20.0| 10.0|10.0|2000.0|\n",
      "|   82.0| 6.0| 13.0| 7.0| 546.0|\n",
      "|   60.0| 2.0| 16.0|14.0| 448.0|\n",
      "|   74.0| 3.0|  1.0|17.0|  51.0|\n",
      "|   66.0|14.0|  2.0| 2.0|  56.0|\n",
      "|   68.0|11.0|  1.0| 8.0|  88.0|\n",
      "|    3.0| 2.0| 12.0|12.0| 288.0|\n",
      "|   19.0|17.0| 10.0|10.0|1700.0|\n",
      "|   53.0| 1.0|  7.0|16.0| 112.0|\n",
      "|   61.0|19.0| 18.0| 9.0|3078.0|\n",
      "|   81.0| 6.0| 14.0|11.0| 924.0|\n",
      "|   59.0|11.0| 12.0| 6.0| 792.0|\n",
      "|   46.0|10.0| 20.0|10.0|2000.0|\n",
      "|   28.0|10.0|  3.0|11.0| 330.0|\n",
      "|    2.0| 8.0|  3.0|11.0| 264.0|\n",
      "|   57.0| 6.0| 11.0| 6.0| 396.0|\n",
      "|   87.0|10.0|  5.0|14.0| 700.0|\n",
      "|   17.0| 7.0|  8.0| 2.0| 112.0|\n",
      "|   38.0| 2.0|  4.0| 3.0|  24.0|\n",
      "|   27.0| 4.0|  5.0|10.0| 200.0|\n",
      "|   10.0| 8.0|  1.0|17.0| 136.0|\n",
      "|   73.0| 6.0|  4.0| 8.0| 192.0|\n",
      "|   30.0|12.0|  5.0| 2.0| 120.0|\n",
      "|   40.0|10.0| 14.0|20.0|2800.0|\n",
      "|   13.0|10.0| 19.0|13.0|2470.0|\n",
      "|   99.0| 7.0| 19.0|11.0|1463.0|\n",
      "|   95.0|10.0|  2.0| 6.0| 120.0|\n",
      "|  100.0|11.0|  1.0|12.0| 132.0|\n",
      "|   84.0|14.0| 16.0|17.0|3808.0|\n",
      "|   33.0|19.0|  2.0|14.0| 532.0|\n",
      "|   92.0| 7.0| 12.0| 4.0| 336.0|\n",
      "|    6.0| 9.0| 14.0| 3.0| 378.0|\n",
      "|   20.0|20.0|  9.0|17.0|3060.0|\n",
      "|   52.0| 2.0| 13.0| 7.0| 182.0|\n",
      "|   32.0| 3.0|  7.0| 9.0| 189.0|\n",
      "|   97.0| 5.0| 14.0| 7.0| 490.0|\n",
      "|    5.0| 1.0|  2.0|19.0|  38.0|\n",
      "|   24.0|11.0|  7.0| 4.0| 308.0|\n",
      "|   15.0|16.0|  2.0|10.0| 320.0|\n",
      "|   89.0| 1.0| 15.0| 8.0| 120.0|\n",
      "|   55.0| 2.0|  6.0| 6.0|  72.0|\n",
      "|    9.0|12.0|  9.0|14.0|1512.0|\n",
      "|   26.0| 5.0| 11.0| 7.0| 385.0|\n",
      "|   65.0| 3.0|  6.0|12.0| 216.0|\n",
      "|   16.0|12.0|  9.0|10.0|1080.0|\n",
      "|   12.0| 4.0| 17.0| 3.0| 204.0|\n",
      "|   54.0| 4.0|  3.0|16.0| 192.0|\n",
      "|   76.0| 9.0|  8.0|12.0| 864.0|\n",
      "|   43.0| 8.0|  2.0| 9.0| 144.0|\n",
      "|   90.0|15.0|  2.0| 9.0| 270.0|\n",
      "|   91.0|20.0| 14.0|10.0|2800.0|\n",
      "+-------+----+-----+----+------+\n",
      "\n"
     ]
    }
   ],
   "source": [
    "df_sets_max_pivot = df_sets_max_pivot.withColumn('power',col('blue') * col('green') * col('red'))\n",
    "df_sets_max_pivot.show(n=100)"
   ]
  },
  {
   "cell_type": "code",
   "execution_count": 52,
   "metadata": {},
   "outputs": [],
   "source": [
    "df_sets = df_sets.withColumn('Fail', \n",
    "                            when(\n",
    "                                (coalesce(col('blue'), lit(0)) > 14) | \n",
    "                                (coalesce(col('green'), lit(0)) > 13) | \n",
    "                                (coalesce(col('red'), lit(0)) > 12), lit(1))\n",
    "                            .otherwise(lit(0))\n",
    "                            )"
   ]
  },
  {
   "cell_type": "code",
   "execution_count": 53,
   "metadata": {},
   "outputs": [],
   "source": [
    "df_filtered = df_sets.groupBy('game_no').agg(sum('Fail')).orderBy('game_no')"
   ]
  },
  {
   "cell_type": "code",
   "execution_count": 40,
   "metadata": {},
   "outputs": [
    {
     "name": "stdout",
     "output_type": "stream",
     "text": [
      "+-------+---------+\n",
      "|game_no|sum(Fail)|\n",
      "+-------+---------+\n",
      "|    1.0|        0|\n",
      "|    2.0|        0|\n",
      "|    3.0|        0|\n",
      "|    4.0|        2|\n",
      "|    5.0|        2|\n",
      "|    6.0|        1|\n",
      "|    7.0|        3|\n",
      "|    8.0|        0|\n",
      "|    9.0|        1|\n",
      "|   10.0|        1|\n",
      "|   11.0|        1|\n",
      "|   12.0|        4|\n",
      "|   13.0|        1|\n",
      "|   14.0|        1|\n",
      "|   15.0|        1|\n",
      "|   16.0|        0|\n",
      "|   17.0|        0|\n",
      "|   18.0|        0|\n",
      "|   19.0|        1|\n",
      "|   20.0|        2|\n",
      "+-------+---------+\n",
      "only showing top 20 rows\n",
      "\n"
     ]
    }
   ],
   "source": [
    "# df_filtered.show()\n",
    "# sum_when_false.show()"
   ]
  },
  {
   "cell_type": "code",
   "execution_count": 54,
   "metadata": {},
   "outputs": [
    {
     "data": {
      "text/html": [
       "<table border='1'>\n",
       "<tr><th>sum(Fail)</th><th>sum(game_no)</th></tr>\n",
       "<tr><td>0</td><td>2679.0</td></tr>\n",
       "<tr><td>1</td><td>1235.0</td></tr>\n",
       "<tr><td>3</td><td>330.0</td></tr>\n",
       "<tr><td>2</td><td>710.0</td></tr>\n",
       "<tr><td>4</td><td>96.0</td></tr>\n",
       "</table>\n"
      ],
      "text/plain": [
       "+---------+------------+\n",
       "|sum(Fail)|sum(game_no)|\n",
       "+---------+------------+\n",
       "|        0|      2679.0|\n",
       "|        1|      1235.0|\n",
       "|        3|       330.0|\n",
       "|        2|       710.0|\n",
       "|        4|        96.0|\n",
       "+---------+------------+"
      ]
     },
     "execution_count": 54,
     "metadata": {},
     "output_type": "execute_result"
    }
   ],
   "source": [
    "df_filtered.groupBy('sum(Fail)').agg(sum('game_no'))"
   ]
  },
  {
   "cell_type": "markdown",
   "metadata": {},
   "source": [
    "#### Part 2"
   ]
  },
  {
   "cell_type": "code",
   "execution_count": 27,
   "metadata": {},
   "outputs": [],
   "source": [
    "color = 'red'\n",
    "df = df.withColumn('red_max', greatest(\\\n",
    "     col('set0_map')[color].cast(DoubleType())\n",
    "    ,col('set1_map')[color].cast(DoubleType())\n",
    "    ,col('set2_map')[color].cast(DoubleType())\n",
    "    ,col('set3_map')[color].cast(DoubleType())\n",
    "    ,col('set4_map')[color].cast(DoubleType())\n",
    "))\n",
    "color = 'blue'\n",
    "df = df.withColumn('blue_max', greatest(\\\n",
    "     col('set0_map')[color].cast(DoubleType())\n",
    "    ,col('set1_map')[color].cast(DoubleType())\n",
    "    ,col('set2_map')[color].cast(DoubleType())\n",
    "    ,col('set3_map')[color].cast(DoubleType())\n",
    "    ,col('set4_map')[color].cast(DoubleType())\n",
    "))\n",
    "color = 'green'\n",
    "df = df.withColumn('green_max', greatest(\\\n",
    "     col('set0_map')[color].cast(DoubleType())\n",
    "    ,col('set1_map')[color].cast(DoubleType())\n",
    "    ,col('set2_map')[color].cast(DoubleType())\n",
    "    ,col('set3_map')[color].cast(DoubleType())\n",
    "    ,col('set4_map')[color].cast(DoubleType())\n",
    "))\n",
    "df = df.fillna(0)\n",
    "df = df.withColumn('power', col('red_max') * col('blue_max') * col('green_max'))"
   ]
  },
  {
   "cell_type": "code",
   "execution_count": 45,
   "metadata": {},
   "outputs": [
    {
     "name": "stdout",
     "output_type": "stream",
     "text": [
      "100\n"
     ]
    }
   ],
   "source": [
    "print(df_max.count())"
   ]
  },
  {
   "cell_type": "code",
   "execution_count": 57,
   "metadata": {},
   "outputs": [
    {
     "name": "stdout",
     "output_type": "stream",
     "text": [
      "+----------+\n",
      "|sum(power)|\n",
      "+----------+\n",
      "|   75534.0|\n",
      "+----------+\n",
      "\n"
     ]
    }
   ],
   "source": [
    "df_max.select(sum(col('power'))).show()"
   ]
  },
  {
   "cell_type": "markdown",
   "metadata": {},
   "source": [
    "Mine = 75534"
   ]
  },
  {
   "cell_type": "code",
   "execution_count": 32,
   "metadata": {},
   "outputs": [
    {
     "name": "stdout",
     "output_type": "stream",
     "text": [
      "Part 1 = 2679\n",
      "Part 2 = 77607\n"
     ]
    }
   ],
   "source": [
    "powerSum = 0\n",
    "sum = 0\n",
    "with open('2.csv') as input:\n",
    "\tfor line in input:\n",
    "\t\tgame = line.strip().split(':')\n",
    "\t\tmoves = game[1].split(';')\n",
    "\t\tgameID = int(game[0].strip().split(' ')[1])\n",
    "\t\tminRed = 0\n",
    "\t\tminGreen = 0\n",
    "\t\tminBlue = 0\n",
    "\t\tfor move in moves:\n",
    "\t\t\tpieces = move.strip().split(',')\n",
    "\t\t\tfor piece in pieces:\n",
    "\t\t\t\tcount = int(piece.strip().split(' ')[0])\n",
    "\t\t\t\tcolor = piece.strip().split(' ')[1]\n",
    "\t\t\t\tif color == 'red' and count > minRed:\n",
    "\t\t\t\t\tminRed = count\n",
    "\t\t\t\tif color == 'blue' and count > minBlue:\n",
    "\t\t\t\t\tminBlue = count\n",
    "\t\t\t\tif color == 'green' and count > minGreen:\n",
    "\t\t\t\t\tminGreen = count\t\n",
    "\t\tif minGreen <= 13 and minBlue <= 14 and minRed <= 12:\n",
    "\t\t\tsum += gameID\n",
    "\t\tpower = minRed * minGreen * minBlue\n",
    "\t\tpowerSum += power\n",
    "\n",
    "print(f'Part 1 = {sum}')\n",
    "print(f'Part 2 = {powerSum}')"
   ]
  },
  {
   "cell_type": "code",
   "execution_count": null,
   "metadata": {},
   "outputs": [],
   "source": []
  }
 ],
 "metadata": {
  "kernelspec": {
   "display_name": "pyspark",
   "language": "python",
   "name": "python3"
  },
  "language_info": {
   "codemirror_mode": {
    "name": "ipython",
    "version": 3
   },
   "file_extension": ".py",
   "mimetype": "text/x-python",
   "name": "python",
   "nbconvert_exporter": "python",
   "pygments_lexer": "ipython3",
   "version": "3.10.12"
  }
 },
 "nbformat": 4,
 "nbformat_minor": 2
}
